{
 "cells": [
  {
   "cell_type": "markdown",
   "metadata": {},
   "source": [
    "# COMP 4030/6030 Final Exam\n"
   ]
  },
  {
   "cell_type": "markdown",
   "metadata": {},
   "source": [
    "**NAME**:  Cheng Yang"
   ]
  },
  {
   "cell_type": "markdown",
   "metadata": {},
   "source": [
    "**Instructions:**\n",
    "\n",
    "* Answer each question clearly.\n",
    "\n",
    "* You can work in a Jupyter notebook, but export it to an HTML file and turn that in.\n",
    "\n",
    "* You may review the course's notebooks. You may not ask or discuss with anyone else.  You may not use code/answers online.  Cheating results in a grade of 0 for the exam and a report to the college and department."
   ]
  },
  {
   "cell_type": "markdown",
   "metadata": {},
   "source": [
    "---\n",
    "**Problem 1 (10 points)**\n",
    "\n",
    "Use the definition of $\\Theta$ to show that $5 + 10n^4 + 6n^2 \\in \\Theta(n^4)$"
   ]
  },
  {
   "cell_type": "markdown",
   "metadata": {},
   "source": [
    "$5+10n^4+6n^2 \\le 5n^4+10n^4+6n^4 = (5+10+6)n^4 = 21 n^4$\n",
    "\n",
    "$5+10n^4+6n^2 \\in O(n^4)$\n",
    "\n",
    "$5+10n^4+6n^2 \\ge 10n^4$\n",
    "\n",
    "$5+10n^4+6n^2 \\in \\Omega(n^4)$\n",
    "\n",
    "$5+10n^4+6n^2 \\in \\Theta(n^4)$\n"
   ]
  },
  {
   "cell_type": "markdown",
   "metadata": {},
   "source": [
    "---\n",
    "\n",
    "**Problem 2 (10 points)**\n",
    "\n",
    "Show that the running time of the following program is $O(n^3)$.\n"
   ]
  },
  {
   "cell_type": "code",
   "execution_count": 1,
   "metadata": {},
   "outputs": [],
   "source": [
    "#\n",
    "# Input: L is a list of numbers, x is some number.\n",
    "#\n",
    "def pro2(L, x):\n",
    "    s = 0\n",
    "    for i in range(len(L)):\n",
    "        for j in range(len(L)):\n",
    "            for k in range(i+j, len(L)):\n",
    "                s = i + j + k\n",
    "                if s == x:\n",
    "                    return True\n",
    "    return False\n"
   ]
  },
  {
   "cell_type": "markdown",
   "metadata": {},
   "source": [
    "$T(n) = c_1+c_2n^3$\n",
    "\n",
    "$T(n) \\le c_1n^3+c_2n^3 = (c_1+c_2)n^3=cn^3$\n",
    "\n",
    "$T(n) \\in O(n^3)$"
   ]
  },
  {
   "cell_type": "markdown",
   "metadata": {},
   "source": [
    "---\n",
    "\n",
    "**Problem 3 (10 points)**\n",
    "\n",
    "Use the Master's theorem to find the complexity of this equation: $T(n) = 5n^4 + 18 \\cdot T({n \\over 2})$."
   ]
  },
  {
   "cell_type": "markdown",
   "metadata": {},
   "source": [
    "d=4, a=18, b=2\n",
    "\n",
    "$\\log_b(a)= \\log_2(18)=4.17 > 4$\n",
    "\n",
    "\n",
    "$T(n) \\in \\Theta(n^{log_2(18)})$"
   ]
  },
  {
   "cell_type": "markdown",
   "metadata": {},
   "source": [
    "---\n",
    "\n",
    "**Problem 4 (15 points)**\n",
    "\n",
    "Find the running time equations and compare the running time complexities of these two programs. Which is faster for large inputs? Explain and how you find the complexities of the programs.\n",
    "\n",
    "Note: although you're not told specifically which technique to use to find the complexity of these programs, you should know how to do so."
   ]
  },
  {
   "cell_type": "code",
   "execution_count": null,
   "metadata": {},
   "outputs": [],
   "source": [
    "#\n",
    "# Input: L is a list of numbers\n",
    "#\n",
    "def prob4a(L):\n",
    "    if len(L)<=1:\n",
    "        return 5\n",
    "    t = 0\n",
    "    for x in L:\n",
    "        t += x\n",
    "    left = L[0 : len(L)//2]\n",
    "    right = L[len(L)//2 : len(L)]\n",
    "    return t + prob4a(left) + prob4a(right) "
   ]
  },
  {
   "cell_type": "markdown",
   "metadata": {},
   "source": [
    "$T(n)= c_1 +c_2n+2T(n/2)$\n",
    "\n",
    "d=1, a=2, b =2\n",
    "\n",
    "$\\log_b(a)=\\log_2(2)=1$\n",
    "\n",
    "$T(n)\\in \\Theta(n \\log n)$"
   ]
  },
  {
   "cell_type": "code",
   "execution_count": 2,
   "metadata": {},
   "outputs": [],
   "source": [
    "#\n",
    "# Input: L is a list of numbers\n",
    "#\n",
    "def prob4b(L):\n",
    "    if len(L)<=1:\n",
    "        return 5\n",
    "    t = 0\n",
    "    for i in range(len(L)):\n",
    "        for j in range(len(L)):\n",
    "            t += L[i] * L[j]\n",
    "    left = L[0 : len(L)//2]\n",
    "    return t + prob4b(left)"
   ]
  },
  {
   "cell_type": "markdown",
   "metadata": {},
   "source": [
    "$T(n)=c_1 +c_2n^2+T(n/2)$\n",
    "\n",
    "d=2, a=1, b=2\n",
    "\n",
    "$ \\log_b(a)= \\log_2(1)=0$\n",
    "\n",
    "$T(n) \\in \\Theta(n^2)$"
   ]
  },
  {
   "cell_type": "markdown",
   "metadata": {},
   "source": [
    "prob4a run faster,beacuse  $n^2$ grow faster than $n \\log n$"
   ]
  },
  {
   "cell_type": "markdown",
   "metadata": {},
   "source": [
    "---\n",
    "\n",
    "**Problem 5 (20 points)**\n",
    "\n",
    "The following tree data structure was used in the midterm exam.  \n",
    "\n",
    "A tree is just a node with three subtrees: left, right, middle.  Each of them is also a tree node, or a subtree rooted at the node.\n",
    "\n",
    "A leaf is a tree node without left, right, and middle (they're None).\n",
    "\n",
    "In the problem, you write a program (complete the code below) to find the longest path from the root of the input tree to any leaf.  (The length of a path is simply the number of nodes in the path).\n",
    "\n",
    "**Hint: Your program should use the same procedure to compute the length of the left, right and middle subtrees**.\n",
    "\n",
    "\n",
    "Here's the code of how such a tree is constructed.  You don't need to understand how it works to do this problem. But it can be helpful.\n",
    "```\n",
    "import random\n",
    "\n",
    "class Tree:\n",
    "    def __init__(self, m=None):\n",
    "        if m is None:\n",
    "            m = random.randint(2, 7)\n",
    "        self.left = None\n",
    "        self.right = None\n",
    "        self.middle = None\n",
    "        if random.randint(0, m) > 0:\n",
    "            self.left = Tree(m-1)\n",
    "        if random.randint(0, m) > 0:\n",
    "            self.right = Tree(m-1)\n",
    "        if random.randint(0, m) > 0:\n",
    "            self.middle = Tree(m-1)\n",
    "\n",
    "    def print(self, indents=0, name='*'):\n",
    "        print('\\t'*indents + name)\n",
    "        if self.left is not None:\n",
    "            self.left.print(indents+1, 'l')\n",
    "        else:\n",
    "            print('\\t'*(indents+1) + '.')\n",
    "        if self.middle is not None:\n",
    "            self.middle.print(indents+1, 'm')\n",
    "        else:\n",
    "            print('\\t'*(indents+1) + '.')\n",
    "        if self.right is not None:\n",
    "            self.right.print(indents+1, 'r')\n",
    "        else:\n",
    "            print('\\t'*(indents+1) + '.')\n",
    "```\n",
    "\n",
    "**Complete the code below to solve the problem.**"
   ]
  },
  {
   "cell_type": "code",
   "execution_count": 85,
   "metadata": {},
   "outputs": [
    {
     "name": "stdout",
     "output_type": "stream",
     "text": [
      "*\n",
      "\tl\n",
      "\t\t.\n",
      "\t\t.\n",
      "\t\tr\n",
      "\t\t\tl\n",
      "\t\t\t\tl\n",
      "\t\t\t\t\t.\n",
      "\t\t\t\t\t.\n",
      "\t\t\t\t\t.\n",
      "\t\t\t\t.\n",
      "\t\t\t\tr\n",
      "\t\t\t\t\t.\n",
      "\t\t\t\t\t.\n",
      "\t\t\t\t\t.\n",
      "\t\t\t.\n",
      "\t\t\tr\n",
      "\t\t\t\t.\n",
      "\t\t\t\t.\n",
      "\t\t\t\tr\n",
      "\t\t\t\t\t.\n",
      "\t\t\t\t\t.\n",
      "\t\t\t\t\t.\n",
      "\t.\n",
      "\t.\n"
     ]
    },
    {
     "data": {
      "text/plain": [
       "['r', 'r', 'r', 'r', 'l']"
      ]
     },
     "execution_count": 85,
     "metadata": {},
     "output_type": "execute_result"
    }
   ],
   "source": [
    "#\n",
    "# Input: t is a tree node (or a tree root)\n",
    "# Output: the length of the longest path from t to a leaf.\n",
    "#\n",
    "import random\n",
    "\n",
    "class Tree:\n",
    "    def __init__(self, m=None):\n",
    "        if m is None:\n",
    "            m = random.randint(2, 7)\n",
    "        self.left = None\n",
    "        self.right = None\n",
    "        self.middle = None\n",
    "        if random.randint(0, m) > 0:\n",
    "            self.left = Tree(m-1)\n",
    "        if random.randint(0, m) > 0:\n",
    "            self.right = Tree(m-1)\n",
    "        if random.randint(0, m) > 0:\n",
    "            self.middle = Tree(m-1)\n",
    "\n",
    "    def print(self, indents=0, name='*'):\n",
    "        print('\\t'*indents + name)\n",
    "        if self.left is not None:\n",
    "            self.left.print(indents+1, 'l')\n",
    "        else:\n",
    "            print('\\t'*(indents+1) + '.')\n",
    "        if self.middle is not None:\n",
    "            self.middle.print(indents+1, 'm')\n",
    "        else:\n",
    "            print('\\t'*(indents+1) + '.')\n",
    "        if self.right is not None:\n",
    "            self.right.print(indents+1, 'r')\n",
    "        else:\n",
    "            print('\\t'*(indents+1) + '.')\n",
    "a_tree = Tree(4)\n",
    "a_tree.print()\n",
    "visited=[]\n",
    "queue=[]\n",
    "def prob5(t):\n",
    "     \n",
    "    # If root is null means there\n",
    "    # is no binary tree so\n",
    "    # return a empty vector\n",
    "    if (t == None):\n",
    "        return []\n",
    "\n",
    "    rightvect = prob5(t.right)\n",
    "\n",
    "    leftvect = prob5(t.left)\n",
    " \n",
    "    if (len(leftvect) > len(rightvect)):\n",
    "        leftvect.append('l')\n",
    "    else:\n",
    "        rightvect.append('r')\n",
    "\n",
    "    if len(leftvect) > len(rightvect):\n",
    "        return leftvect\n",
    " \n",
    "    return rightvect   \n",
    "        \n",
    "\n",
    "prob5(a_tree)\n",
    "    "
   ]
  },
  {
   "cell_type": "markdown",
   "metadata": {},
   "source": [
    "---\n",
    "\n",
    "**Problem 6 (15 points)**\n",
    "\n",
    "The make_change program below not only determines if it's possible to make change for an amount given coin values, but also returns an actual solution.\n",
    "\n",
    "Sample inputs and outputs:\n",
    "\n",
    "+ Input: coins=[3,7], amount=17. Output: True, [3, 7, 7].\n",
    "+ Input: coins=[3,7,9], amount=9. Output: True, [3, 3, 3]. Explanation: even if there's + more than one ways to make change, you only need to return one of them.\n",
    "+ Input: coins=[3,7], amount=8. Output: False, [].\n",
    "\n",
    "```\n",
    "def make_change(coins, amount, changes):\n",
    "    if amount==0:\n",
    "        return True, changes\n",
    "    for c in coins:\n",
    "        if amount >= c:\n",
    "            yes, new_changes = make_change(coins, amount-c, changes+[c])\n",
    "            if yes:\n",
    "                return True, new_changes\n",
    "    return False, []\n",
    "```\n",
    "\n",
    "This recursive program is slow because the same recursive calls might be repeatedly computed. We learned that to solve this we should store outputs, using inputs as keys of a dictionary.\n",
    "\n",
    "Revise this program so that it stores outputs and simply returns them if the inputs are already computed.\n",
    "\n",
    "Hints: as we discussed about this technique, you don't have to use all inputs as keys; only those that are changed during the course of the execution."
   ]
  },
  {
   "cell_type": "code",
   "execution_count": 13,
   "metadata": {},
   "outputs": [],
   "source": [
    "#\n",
    "# Complete this program to solve the problem\n",
    "#\n",
    "def make_change(coins, amount, changes):\n",
    "    if amount in Table:\n",
    "        return Table[amount]\n",
    "    if amount==0:\n",
    "        Table[amount]=[True,changes]\n",
    "        return True, changes\n",
    "    for c in coins:\n",
    "        if amount >= c:\n",
    "            yes, new_changes = make_change(coins, amount-c, changes+[c])\n",
    "            if yes:\n",
    "                Table[amount]=[True,new_changes]\n",
    "                return True, new_changes\n",
    "    Table[amount]=[False,[]]\n",
    "    return False, []\n",
    "\n",
    "\n",
    "\n"
   ]
  },
  {
   "cell_type": "code",
   "execution_count": 87,
   "metadata": {},
   "outputs": [
    {
     "data": {
      "text/plain": [
       "(True, [3, 3, 3])"
      ]
     },
     "execution_count": 87,
     "metadata": {},
     "output_type": "execute_result"
    }
   ],
   "source": [
    "#\n",
    "# Test your program here:\n",
    "#\n",
    "\n",
    "Table = {}\n",
    "make_change([3,7], 17, [])\n",
    "\n",
    "\n",
    "#\n",
    "# Add other test cases\n",
    "#\n",
    "Table = {}\n",
    "make_change([3,7,9], 9, [])\n"
   ]
  },
  {
   "cell_type": "markdown",
   "metadata": {},
   "source": [
    "---\n",
    "\n",
    "**Problem 7 (10 points)**\n",
    "\n",
    "Given a network (graph), use backtracking to find all sets of nodes in which there's no connections between any nodes.   \n",
    "\n",
    "Further, each set of nodes must have at least 3 nodes.\n",
    "\n",
    "For example, in the network below, the set {2, 7, 4} is such a set of nodes.  There are no edges/connections among these 3 nodes.\n",
    "\n",
    "You must use backtracking to generate all such sets.   \n",
    "\n",
    "Each set corresponds to a group of people who mutually don't know each other in a social network.\n",
    "\n",
    "Note: **you must show how your program works, at least using the network below.**\n"
   ]
  },
  {
   "cell_type": "code",
   "execution_count": 20,
   "metadata": {},
   "outputs": [
    {
     "data": {
      "image/png": "[encoded data removed]",
      "text/plain": [
       "<Figure size 640x480 with 1 Axes>"
      ]
     },
     "metadata": {},
     "output_type": "display_data"
    }
   ],
   "source": [
    "import networkx as nx\n",
    "my_network = nx.gnp_random_graph(8, 0.25, seed=12345)\n",
    "nx.draw(my_network, with_labels=True)"
   ]
  },
  {
   "cell_type": "code",
   "execution_count": 54,
   "metadata": {},
   "outputs": [],
   "source": [
    "#\n",
    "# Complete this code to solve problem 7.\n",
    "#\n",
    "def get_nodes(solution):\n",
    "    return [i for i in range(len(solution)) if solution[i]==True]\n",
    "def is_valid(solution, network):\n",
    "    nodes = get_nodes(solution)\n",
    "    for  (a,b) in network.edges:\n",
    "        if a in nodes and b in nodes:\n",
    "            return False\n",
    "    for  (b,a) in network.edges:\n",
    "        if a in nodes and b in nodes:\n",
    "            return False\n",
    "    for  (a,c) in network.edges:\n",
    "        if a in nodes and c in nodes:\n",
    "            return False\n",
    "    for  (c,a) in network.edges:\n",
    "        if a in nodes and c in nodes:\n",
    "            return False\n",
    "    for  (b,c) in network.edges:\n",
    "        if b in nodes and c in nodes:\n",
    "            return False\n",
    "    for  (c,b) in network.edges:\n",
    "        if b in nodes and c in nodes:\n",
    "            return False\n",
    "    if len(nodes)!=3:\n",
    "        return False\n",
    "    return True\n",
    "def prob7(solution, i, network):\n",
    "    if i==len(solution):\n",
    "        if is_valid(solution, network):\n",
    "            nodes = get_nodes(solution)\n",
    "            print(nodes)\n",
    "    else:\n",
    "        for p in [True,False]:\n",
    "            solution[i] = p\n",
    "            prob7(solution, i+1, network)\n",
    "    \n",
    "\n",
    "\n"
   ]
  },
  {
   "cell_type": "code",
   "execution_count": 55,
   "metadata": {},
   "outputs": [
    {
     "name": "stdout",
     "output_type": "stream",
     "text": [
      "[0, 1, 2]\n",
      "[0, 1, 3]\n",
      "[0, 1, 5]\n",
      "[0, 1, 6]\n",
      "[0, 1, 7]\n",
      "[0, 2, 3]\n",
      "[0, 2, 6]\n",
      "[0, 2, 7]\n",
      "[0, 2, 9]\n",
      "[0, 3, 5]\n",
      "[0, 3, 6]\n",
      "[0, 3, 7]\n",
      "[0, 5, 6]\n",
      "[0, 5, 9]\n",
      "[0, 6, 7]\n",
      "[0, 7, 9]\n",
      "[1, 2, 3]\n",
      "[1, 2, 6]\n",
      "[1, 2, 7]\n",
      "[1, 2, 8]\n",
      "[1, 3, 5]\n",
      "[1, 3, 6]\n",
      "[1, 3, 7]\n",
      "[1, 5, 6]\n",
      "[1, 6, 7]\n",
      "[1, 7, 8]\n",
      "[2, 3, 4]\n",
      "[2, 3, 6]\n",
      "[2, 3, 7]\n",
      "[2, 4, 6]\n",
      "[2, 4, 8]\n",
      "[2, 4, 9]\n",
      "[2, 6, 7]\n",
      "[2, 7, 8]\n",
      "[2, 7, 9]\n",
      "[2, 8, 9]\n",
      "[3, 4, 5]\n",
      "[3, 4, 6]\n",
      "[3, 5, 6]\n",
      "[3, 6, 7]\n",
      "[4, 5, 6]\n",
      "[4, 5, 9]\n",
      "[4, 8, 9]\n",
      "[7, 8, 9]\n"
     ]
    },
    {
     "data": {
      "image/png": "[encoded data removed]",
      "text/plain": [
       "<Figure size 432x288 with 1 Axes>"
      ]
     },
     "metadata": {},
     "output_type": "display_data"
    }
   ],
   "source": [
    "#\n",
    "# Test your program here\n",
    "#\n",
    "import networkx as nx\n",
    "my_network = nx.gnp_random_graph(10, 0.25, seed=2021)\n",
    "nx.draw(my_network, with_labels=True)\n",
    "prob7([None]*len(my_network), 0, my_network)\n",
    "\n",
    "\n"
   ]
  },
  {
   "cell_type": "markdown",
   "metadata": {},
   "source": [
    "---\n",
    "\n",
    "**Problem 8 (10 points)**\n",
    "\n",
    "Continuing from the previous problem, use backtracking to find the largest group of nodes in a network without mutual connections.\n",
    "\n",
    "For example, in the network above, the set {0, 1, 4, 5, 7} is the largest group of nodes.  There might be multiple largest group of nodes with the same number of nodes. Any of such group of nodes.\n",
    "\n",
    "Note that in your solution, you have one extra input, \"largest_set\".\n",
    "\n",
    "Note: **you must show how your program works, at least using the same network above.**\n"
   ]
  },
  {
   "cell_type": "code",
   "execution_count": 63,
   "metadata": {},
   "outputs": [],
   "source": [
    "#\n",
    "# Complete this code to solve problem 8.\n",
    "#\n",
    "\n",
    "def get_nodes(solution):\n",
    "    return [i for i in range(len(solution)) if solution[i]==True]\n",
    "def is_valid(solution, network):\n",
    "    nodes = get_nodes(solution)\n",
    "    for  (a,b) in network.edges:\n",
    "        if a in nodes and b in nodes:\n",
    "            return False\n",
    "    for  (b,a) in network.edges:\n",
    "        if a in nodes and b in nodes:\n",
    "            return False\n",
    "    for  (a,c) in network.edges:\n",
    "        if a in nodes and c in nodes:\n",
    "            return False\n",
    "    for  (c,a) in network.edges:\n",
    "        if a in nodes and c in nodes:\n",
    "            return False\n",
    "    for  (b,c) in network.edges:\n",
    "        if b in nodes and c in nodes:\n",
    "            return False\n",
    "    for  (c,b) in network.edges:\n",
    "        if b in nodes and c in nodes:\n",
    "            return False\n",
    "    return True\n",
    "\n",
    "def larger_group(s1, s2):\n",
    "    return len(get_nodes(s1)) > len(get_nodes(s2))\n",
    "\n",
    "def prob8(solution, i, network, best):\n",
    "    if i==len(solution):\n",
    "        if is_valid(solution, network):\n",
    "            if larger_group(solution, best):\n",
    "                for j in range(len(solution)):\n",
    "                    best[j] = solution[j]\n",
    "                print('updated best solution', get_nodes(best))\n",
    "            nodes = get_nodes(solution)\n",
    "            print(nodes)\n",
    "    else:\n",
    "        for p in [True,False]:\n",
    "            solution[i] = p\n",
    "            prob8(solution, i+1, network, best)\n",
    "\n"
   ]
  },
  {
   "cell_type": "code",
   "execution_count": 90,
   "metadata": {},
   "outputs": [
    {
     "name": "stdout",
     "output_type": "stream",
     "text": [
      "updated best solution [0, 1, 2, 3, 6, 7]\n",
      "[0, 1, 2, 3, 6, 7]\n",
      "[0, 1, 2, 3, 6]\n",
      "[0, 1, 2, 3, 7]\n",
      "[0, 1, 2, 3]\n",
      "[0, 1, 2, 6, 7]\n",
      "[0, 1, 2, 6]\n",
      "[0, 1, 2, 7]\n",
      "[0, 1, 2]\n",
      "[0, 1, 3, 5, 6]\n",
      "[0, 1, 3, 5]\n",
      "[0, 1, 3, 6, 7]\n",
      "[0, 1, 3, 6]\n",
      "[0, 1, 3, 7]\n",
      "[0, 1, 3]\n",
      "[0, 1, 5, 6]\n",
      "[0, 1, 5]\n",
      "[0, 1, 6, 7]\n",
      "[0, 1, 6]\n",
      "[0, 1, 7]\n",
      "[0, 1]\n",
      "[0, 2, 3, 6, 7]\n",
      "[0, 2, 3, 6]\n",
      "[0, 2, 3, 7]\n",
      "[0, 2, 3]\n",
      "[0, 2, 6, 7]\n",
      "[0, 2, 6]\n",
      "[0, 2, 7, 9]\n",
      "[0, 2, 7]\n",
      "[0, 2, 9]\n",
      "[0, 2]\n",
      "[0, 3, 5, 6]\n",
      "[0, 3, 5]\n",
      "[0, 3, 6, 7]\n",
      "[0, 3, 6]\n",
      "[0, 3, 7]\n",
      "[0, 3]\n",
      "[0, 5, 6]\n",
      "[0, 5, 9]\n",
      "[0, 5]\n",
      "[0, 6, 7]\n",
      "[0, 6]\n",
      "[0, 7, 9]\n",
      "[0, 7]\n",
      "[0, 9]\n",
      "[0]\n",
      "[1, 2, 3, 6, 7]\n",
      "[1, 2, 3, 6]\n",
      "[1, 2, 3, 7]\n",
      "[1, 2, 3]\n",
      "[1, 2, 6, 7]\n",
      "[1, 2, 6]\n",
      "[1, 2, 7, 8]\n",
      "[1, 2, 7]\n",
      "[1, 2, 8]\n",
      "[1, 2]\n",
      "[1, 3, 5, 6]\n",
      "[1, 3, 5]\n",
      "[1, 3, 6, 7]\n",
      "[1, 3, 6]\n",
      "[1, 3, 7]\n",
      "[1, 3]\n",
      "[1, 5, 6]\n",
      "[1, 5]\n",
      "[1, 6, 7]\n",
      "[1, 6]\n",
      "[1, 7, 8]\n",
      "[1, 7]\n",
      "[1, 8]\n",
      "[1]\n",
      "[2, 3, 4, 6]\n",
      "[2, 3, 4]\n",
      "[2, 3, 6, 7]\n",
      "[2, 3, 6]\n",
      "[2, 3, 7]\n",
      "[2, 3]\n",
      "[2, 4, 6]\n",
      "[2, 4, 8, 9]\n",
      "[2, 4, 8]\n",
      "[2, 4, 9]\n",
      "[2, 4]\n",
      "[2, 6, 7]\n",
      "[2, 6]\n",
      "[2, 7, 8, 9]\n",
      "[2, 7, 8]\n",
      "[2, 7, 9]\n",
      "[2, 7]\n",
      "[2, 8, 9]\n",
      "[2, 8]\n",
      "[2, 9]\n",
      "[2]\n",
      "[3, 4, 5, 6]\n",
      "[3, 4, 5]\n",
      "[3, 4, 6]\n",
      "[3, 4]\n",
      "[3, 5, 6]\n",
      "[3, 5]\n",
      "[3, 6, 7]\n",
      "[3, 6]\n",
      "[3, 7]\n",
      "[3]\n",
      "[4, 5, 6]\n",
      "[4, 5, 9]\n",
      "[4, 5]\n",
      "[4, 6]\n",
      "[4, 8, 9]\n",
      "[4, 8]\n",
      "[4, 9]\n",
      "[4]\n",
      "[5, 6]\n",
      "[5, 9]\n",
      "[5]\n",
      "[6, 7]\n",
      "[6]\n",
      "[7, 8, 9]\n",
      "[7, 8]\n",
      "[7, 9]\n",
      "[7]\n",
      "[8, 9]\n",
      "[8]\n",
      "[9]\n",
      "[]\n",
      "the best solution: [0, 1, 2, 3, 6, 7]\n"
     ]
    },
    {
     "data": {
      "image/png": "[encoded data removed]",
      "text/plain": [
       "<Figure size 432x288 with 1 Axes>"
      ]
     },
     "metadata": {},
     "output_type": "display_data"
    }
   ],
   "source": [
    "#\n",
    "# Test your program here\n",
    "#\n",
    "import networkx as nx\n",
    "my_network = nx.gnp_random_graph(10, 0.25, seed=2021)\n",
    "nx.draw(my_network, with_labels=True)\n",
    "best = [False]*len(my_network)\n",
    "prob8([None]*len(my_network), 0, my_network, best)\n",
    "print(f\"the best solution: {get_nodes(best)}\")\n",
    "\n"
   ]
  },
  {
   "cell_type": "code",
   "execution_count": null,
   "metadata": {},
   "outputs": [],
   "source": []
  }
 ],
 "metadata": {
  "kernelspec": {
   "display_name": "Python 3",
   "language": "python",
   "name": "python3"
  },
  "language_info": {
   "codemirror_mode": {
    "name": "ipython",
    "version": 3
   },
   "file_extension": ".py",
   "mimetype": "text/x-python",
   "name": "python",
   "nbconvert_exporter": "python",
   "pygments_lexer": "ipython3",
   "version": "3.8.8"
  }
 },
 "nbformat": 4,
 "nbformat_minor": 4
}
