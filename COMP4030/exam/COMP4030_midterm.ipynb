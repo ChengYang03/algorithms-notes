{
 "cells": [
  {
   "cell_type": "markdown",
   "metadata": {},
   "source": [
    "# COMP 4030/6030 Midterm Exam\n"
   ]
  },
  {
   "cell_type": "markdown",
   "metadata": {},
   "source": [
    "**NAME**:  Cheng Yang"
   ]
  },
  {
   "cell_type": "markdown",
   "metadata": {},
   "source": [
    "**Instructions:**\n",
    "\n",
    "* Answer each question clearly.\n",
    "\n",
    "* You can work in a Jupyter notebook, but export it to an HTML file and turn that in.\n",
    "\n",
    "* You may review the course's notebooks. You may not ask or discuss with anyone else.  You may not use code/answers online.  Cheating results in a grade of 0 for the exam and a report to the college and department."
   ]
  },
  {
   "cell_type": "markdown",
   "metadata": {},
   "source": [
    "---\n",
    "**Problem 1 (10 points)**\n",
    "\n",
    "Answer the questions with True or False\n",
    "\n",
    "1. $5n + 2 \\in O(n)$\n",
    "2. $5n + 2 \\in O(n^2)$\n",
    "3. $5n + 2 \\in \\Theta(n^2)$\n",
    "4. $5n + 2 \\in \\Omega(1)$\n"
   ]
  },
  {
   "cell_type": "markdown",
   "metadata": {},
   "source": [
    "1. True\n",
    "2. True\n",
    "3. False\n",
    "4. True "
   ]
  },
  {
   "cell_type": "markdown",
   "metadata": {},
   "source": [
    "---\n",
    "**Problem 2 (10 points)**\n",
    "\n",
    "Use the definition of $O$ to show that $10n^3 + 2n^2 \\in O(n^3)$"
   ]
  },
  {
   "cell_type": "markdown",
   "metadata": {},
   "source": [
    "$10n^3 +2n^2 \\le 10n^3 +2n^3 $ for all n > 1\n",
    "\n",
    "$10n^3 +2n^2 \\le 12n^3,c = 12 $ \n",
    "\n",
    "so $10n^3+2n^2 \\in O(n^3)$\n",
    "\n"
   ]
  },
  {
   "cell_type": "markdown",
   "metadata": {},
   "source": [
    "----\n",
    "**Problem 3 (10 points)**\n",
    "\n",
    "Use the substitution method to determine the complexity of the following running time equation:  T(n) = n + T(n/5).\n",
    "\n",
    "You can use these assumptions/facts:\n",
    "\n",
    "1. T(1) = 1\n",
    "2. $1 + {1 \\over 5} + {1 \\over 5^2} + {1 \\over 5^3} + \\cdots  = {5 \\over 4}$"
   ]
  },
  {
   "cell_type": "markdown",
   "metadata": {},
   "source": [
    "$T(n)= n+n/5+T(n/5^2)$\n",
    "\n",
    "$T(n)= n+n/5+n/5^2+T(n/5^3)$\n",
    "\n",
    "$T(n) = n+n/5+n/5^2+n/5^3+T(n/5^4)$\n",
    "\n",
    "after k step, $T(n)= n+n/5+n/5^2+n/5^3+...+n/5^{k-1}+T(n/5^k) = n(1+1/5+1/5^2+1/5^3+...+1/5^k)+T(n/5^k)$\n",
    "\n",
    "Replace n with n/5 we get: $T(n/5)= n/5 +T(n/5^2)$\n",
    "\n",
    "Replace n with n/5^2 we get: $T(n/5^2)= n/5^2 +T(n/5^3)$\n",
    "\n",
    "Replace n with n/5^3 we get: $T(n/5^3)= n/5^3 +T(n/5^4)$\n",
    "\n",
    "Based on the  assumptions:$1 + {1 \\over 5} + {1 \\over 5^2} + {1 \\over 5^3} + \\cdots  = {5 \\over 4}$ we can get $T(n)={5\\over 4}n+T(n/5^k)$\n",
    "\n",
    "We stop when $n/5^k = 1$\n",
    "\n",
    "$T(n) = {5\\over 4}n +T(1) = {5\\over 4}n +1 $\n",
    "\n"
   ]
  },
  {
   "cell_type": "markdown",
   "metadata": {},
   "source": [
    "---\n",
    "\n",
    "**Problem 4 (10 points)**\n",
    "\n",
    "Use the Master's theorem to find the complexity of $T(n) = 6\\cdot n^5 + 125 \\cdot T({n \\over 5})$."
   ]
  },
  {
   "cell_type": "markdown",
   "metadata": {},
   "source": [
    "$d=5 ,  \\log_b(a)= \\log_5(125)=3 $\n",
    "\n",
    "$d \\ne \\log_b(a) $\n",
    "\n",
    "$T(n) \\in \\Theta(n^5)$"
   ]
  },
  {
   "cell_type": "markdown",
   "metadata": {
    "tags": []
   },
   "source": [
    "----\n",
    "**Problem 5 (15 points)**\n",
    "\n",
    "Specify the running time equation and tight-bound complexity of the following program. In deriving the tight-bound ($\\Theta$) complexity, you should specify the lower bound constant and the upper bound constants:\n",
    "```\n",
    "#\n",
    "# Input: S, a string with n characters\n",
    "#\n",
    "def prob5(S):\n",
    "    count = 0\n",
    "    for x in S:\n",
    "        if x in 'aieou':\n",
    "            count += 1\n",
    "    return count\n",
    "```"
   ]
  },
  {
   "cell_type": "markdown",
   "metadata": {},
   "source": [
    "$T(n)=c_1 + c_2n $\n",
    "\n",
    "$c_1 +c_2n \\le c_1n + c_2n$ for all n >1\n",
    "\n",
    "$c_1 +c_2n \\le (c_1+c_2)n, c= c_1+c_2 $ \n",
    "\n",
    "so $T(n) \\in O(n)$\n",
    "\n",
    "$c_1 +c_2n \\ge c_2n$ for all n >1\n",
    "\n",
    "$c= c_2 $\n",
    "\n",
    "so $T(n) \\in \\Omega(n)$\n",
    "\n",
    "so so $T(n) \\in \\Theta(n)$"
   ]
  },
  {
   "cell_type": "markdown",
   "metadata": {
    "jp-MarkdownHeadingCollapsed": true,
    "tags": []
   },
   "source": [
    "---\n",
    "**Problem 6 (15 points)**\n",
    "\n",
    "Let T(n) be the running time equation of prob6, when the input (S) has length n.\n",
    "\n",
    "Answer these questions:\n",
    "\n",
    "1. What is the length of A?\n",
    "2. What is the running time of prob6(A)?\n",
    "3. What is T(n) equal to? (i.e. specify the running time equation of prob6)\n",
    "\n",
    "prob6 is defined as follows:\n",
    "\n",
    "```\n",
    "#\n",
    "# Input: S, a string with n characters\n",
    "#\n",
    "def prob6(S):\n",
    "   if S=='':\n",
    "      return 0\n",
    "   A = S[1: len(S)]\n",
    "   if S[0] in 'aeiou':\n",
    "      return 1 + prob6(A)\n",
    "   else:\n",
    "      return prob6(A)\n",
    "```"
   ]
  },
  {
   "cell_type": "markdown",
   "metadata": {},
   "source": [
    "1. length of A is n-1\n",
    "2. running time of prob6(A) is T(n-1)\n",
    "3. T(n)= c_1 + c_2n + T(n-1)"
   ]
  },
  {
   "cell_type": "markdown",
   "metadata": {},
   "source": [
    "---\n",
    "**Problem 7 (15 points)**\n",
    "\n",
    "Write a function that takes as input a list of numbers, and returns a list with the same numbers but in sorted (increasing) order.\n",
    "\n",
    "You **must** use the following strategy:\n",
    "* If the list has fewer than 2 numbers, it's already sorted.\n",
    "* Find and remove the smallest number in the list.\n",
    "* Sort the remaining numbers using the same strategy.\n",
    "* Put the smallest number together with the sorted remainig numbers\n",
    "\n",
    "Note: using a different strategy will not get any credits.\n",
    "\n",
    "You can make sure of this function below.  It finds and removes the smallest number in a list:\n",
    "```\n",
    "def remove_smallest(L):\n",
    "    return None if L==[] else L.pop(L.index(min(L)))\n",
    "```"
   ]
  },
  {
   "cell_type": "code",
   "execution_count": 1,
   "metadata": {},
   "outputs": [
    {
     "data": {
      "text/plain": [
       "[1, 2, 3, 4, 5, 9, 66]"
      ]
     },
     "execution_count": 1,
     "metadata": {},
     "output_type": "execute_result"
    }
   ],
   "source": [
    "# Add your code below\n",
    "#\n",
    "# Input: a list of numbers unsorted\n",
    "# Output: a list of the same numbers in sorted order\n",
    "#\n",
    "def remove_smallest(L):\n",
    "    return None if L==[] else L.pop(L.index(min(L)))\n",
    "def sort_list(L):\n",
    "    if len(L)<2:\n",
    "        return L\n",
    "    return [remove_smallest(L)] + sort_list(L)\n",
    "\n",
    "L=[1,5,2,9,4,66,3]\n",
    "sort_list(L)\n"
   ]
  },
  {
   "cell_type": "markdown",
   "metadata": {},
   "source": [
    "---\n",
    "\n",
    "**Problem 8 (15 points)**\n",
    "\n",
    "In this problem, you have to write a program that counts the number of \"middle\" nodes in a tree.\n",
    "\n",
    "This code below generates such a random tree.  See additional explanations below."
   ]
  },
  {
   "cell_type": "code",
   "execution_count": 2,
   "metadata": {},
   "outputs": [],
   "source": [
    "import random\n",
    "\n",
    "class Tree:\n",
    "    def __init__(self, m=None):\n",
    "        if m is None:\n",
    "            m = random.randint(2, 7)\n",
    "        self.left = None\n",
    "        self.right = None\n",
    "        self.middle = None\n",
    "        if random.randint(0, m) > 0:\n",
    "            self.left = Tree(m-1)\n",
    "        if random.randint(0, m) > 0:\n",
    "            self.right = Tree(m-1)\n",
    "        if random.randint(0, m) > 0:\n",
    "            self.middle = Tree(m-1)\n",
    "\n",
    "    def print(self, indents=0, name='*'):\n",
    "        print('\\t'*indents + name)\n",
    "        if self.left is not None:\n",
    "            self.left.print(indents+1, 'l')\n",
    "        else:\n",
    "            print('\\t'*(indents+1) + '.')\n",
    "        if self.middle is not None:\n",
    "            self.middle.print(indents+1, 'm')\n",
    "        else:\n",
    "            print('\\t'*(indents+1) + '.')\n",
    "        if self.right is not None:\n",
    "            self.right.print(indents+1, 'r')\n",
    "        else:\n",
    "            print('\\t'*(indents+1) + '.')"
   ]
  },
  {
   "cell_type": "markdown",
   "metadata": {},
   "source": [
    "In this problem (using the code above), a tree node has 3 children: left, right, and middle.  Each child is either a tree node or None.\n",
    "\n",
    "This, for example, creates a tree with maximumn depth of 2:\n",
    "```\n",
    "t = Tree(2)\n",
    "```\n",
    "\n",
    "The depth parameter controls how large a tree can be.\n",
    "\n",
    "In this example, t is a tree, and is the root node of the tree.\n",
    "\n",
    "To access its children, you can do this\n",
    "```\n",
    "t.left\n",
    "\n",
    "t.middle\n",
    "\n",
    "t.right\n",
    "```\n",
    "\n",
    "Each node is either a root node, a left node, a middle node, a right node, or a null node.\n",
    "\n",
    "These nodes are printed out as \"*\", \"l\", \"m\", \"r\" and \".\"\n",
    "\n",
    "For example, here's a tree with root node, 3 left nodes, 2 middle nodes, 2 right nodes, and 17 null nodes.  \n",
    "\n",
    "Note: this tree is randomly generated; each time you execute the code, you get a different tree.A tree node has 3 children: left, right, and middle.  Each child is itself a tree node.\n",
    "\n",
    "To create a tree, we give it a maximum depth that controls how large the tree can be.  For example:\n",
    "```\n",
    "t = Tree(2)\n",
    "```\n",
    "\n",
    "In this example, t is a tree, and is the root node of the tree.\n",
    "\n",
    "To access its children, you can do this\n",
    "```\n",
    "t.left\n",
    "\n",
    "t.middle\n",
    "\n",
    "t.right\n",
    "```\n",
    "\n",
    "Each node is either a root node, a left node, a middle node, a right node, or a null node.\n",
    "\n",
    "These nodes are printed out as \"*\", \"l\", \"m\", \"r\" and \".\"\n",
    "\n",
    "For example, here's a tree with root node, 3 left nodes, 2 middle nodes, 2 right nodes, and 17 null nodes.  Note: this tree is randomly generated; each time you execute the code, you get a different tree."
   ]
  },
  {
   "cell_type": "code",
   "execution_count": 3,
   "metadata": {},
   "outputs": [
    {
     "name": "stdout",
     "output_type": "stream",
     "text": [
      "*\n",
      "\t.\n",
      "\t.\n",
      "\tr\n",
      "\t\t.\n",
      "\t\tm\n",
      "\t\t\t.\n",
      "\t\t\t.\n",
      "\t\t\t.\n",
      "\t\t.\n"
     ]
    }
   ],
   "source": [
    "a_tree = Tree(2)\n",
    "a_tree.print()"
   ]
  },
  {
   "cell_type": "code",
   "execution_count": 22,
   "metadata": {},
   "outputs": [],
   "source": [
    "#\n",
    "# Add your code below\n",
    "#\n",
    "# Input: a tree node\n",
    "# Output: the number of \"middle\" nodes in the tree rooted at this node\n",
    "#\n",
    "def count_middle_nodes(t):\n",
    "    if t is None:\n",
    "        return 0\n",
    "    else:\n",
    "        if t.middle!=None:\n",
    "            return 1+ count_middle_nodes(t.left)+count_middle_nodes(t.middle)+count_middle_nodes(t.right)\n",
    "        else:\n",
    "             return  count_middle_nodes(t.left)+count_middle_nodes(t.middle)+count_middle_nodes(t.right)\n"
   ]
  },
  {
   "cell_type": "code",
   "execution_count": 30,
   "metadata": {},
   "outputs": [
    {
     "name": "stdout",
     "output_type": "stream",
     "text": [
      "*\n",
      "\t.\n",
      "\tm\n",
      "\t\t.\n",
      "\t\tm\n",
      "\t\t\tl\n",
      "\t\t\t\t.\n",
      "\t\t\t\t.\n",
      "\t\t\t\t.\n",
      "\t\t\tm\n",
      "\t\t\t\t.\n",
      "\t\t\t\t.\n",
      "\t\t\t\t.\n",
      "\t\t\tr\n",
      "\t\t\t\t.\n",
      "\t\t\t\t.\n",
      "\t\t\t\t.\n",
      "\t\t.\n",
      "\tr\n",
      "\t\tl\n",
      "\t\t\t.\n",
      "\t\t\tm\n",
      "\t\t\t\t.\n",
      "\t\t\t\t.\n",
      "\t\t\t\t.\n",
      "\t\t\tr\n",
      "\t\t\t\t.\n",
      "\t\t\t\t.\n",
      "\t\t\t\t.\n",
      "\t\t.\n",
      "\t\tr\n",
      "\t\t\tl\n",
      "\t\t\t\t.\n",
      "\t\t\t\t.\n",
      "\t\t\t\t.\n",
      "\t\t\t.\n",
      "\t\t\tr\n",
      "\t\t\t\t.\n",
      "\t\t\t\t.\n",
      "\t\t\t\t.\n"
     ]
    },
    {
     "data": {
      "text/plain": [
       "4"
      ]
     },
     "execution_count": 30,
     "metadata": {},
     "output_type": "execute_result"
    }
   ],
   "source": [
    "a_tree = Tree(3)\n",
    "a_tree.print()\n",
    "count_middle_nodes(a_tree)"
   ]
  },
  {
   "cell_type": "code",
   "execution_count": null,
   "metadata": {},
   "outputs": [],
   "source": []
  },
  {
   "cell_type": "code",
   "execution_count": null,
   "metadata": {},
   "outputs": [],
   "source": []
  }
 ],
 "metadata": {
  "kernelspec": {
   "display_name": "Python 3",
   "language": "python",
   "name": "python3"
  },
  "language_info": {
   "codemirror_mode": {
    "name": "ipython",
    "version": 3
   },
   "file_extension": ".py",
   "mimetype": "text/x-python",
   "name": "python",
   "nbconvert_exporter": "python",
   "pygments_lexer": "ipython3",
   "version": "3.8.8"
  }
 },
 "nbformat": 4,
 "nbformat_minor": 4
}
