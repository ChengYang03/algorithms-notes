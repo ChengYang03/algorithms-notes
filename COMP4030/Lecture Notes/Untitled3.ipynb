{
 "cells": [
  {
   "cell_type": "markdown",
   "id": "4a83d5ad-2396-4297-b92a-85ae0cd2ecfc",
   "metadata": {},
   "source": [
    "concepts\n",
    "- running time analysis\n",
    "- figuring out running time eqns\n",
    "- determining complexity of rt eqns\n",
    "- understand O, omega, theta\n",
    "- understanding \"subproblems\", \"input size\" and their relations to recursive calls, and recursive designs\n",
    "\n",
    "skills:\n",
    "- repeated substitutions\n",
    "- what to do to determine complexities using the master's theorem\n",
    "- calc running time for iterative and recursive programs\n",
    "- calc input size of recursive calls\n",
    "- design simple recursive strategies\n",
    "- translate a recursive strategy from english to python\n",
    "- taking care/solving the smallest cases \"base\" or \"edge\" cases when you can't divide the problem any smaller"
   ]
  },
  {
   "cell_type": "code",
   "execution_count": 43,
   "id": "61b33b44-0410-4e90-a3f3-4e8f6a309e74",
   "metadata": {},
   "outputs": [
    {
     "name": "stdout",
     "output_type": "stream",
     "text": [
      "5\n"
     ]
    }
   ],
   "source": [
    "# Recursive Python3 program for\n",
    "# coin change problem.\n",
    "\n",
    "# Returns the count of ways we can sum\n",
    "# coins[0...n-1] coins to get sum \"sum\"\n",
    "\n",
    "def make_change(coins,amount):\n",
    "    Table={}\n",
    "    def count(coins, n, amount):\n",
    "        if (amount == 0):\n",
    "            Table[amount]=1\n",
    "            return 1\n",
    "        if (amount < 0):\n",
    "            Table[amount]=0\n",
    "            return 0\n",
    "        if (n <= 0):\n",
    "            Table[amount]=0\n",
    "            return 0\n",
    "        output=count(coins, n - 1, amount) + count(coins, n, amount-coins[n-1])\n",
    "        Table[amount]=output\n",
    "        return output\n",
    "    n= len(coins)\n",
    "    print(count(coins, n, amount))        \n",
    "coins = [2,5,3,6]\n",
    "make_change(coins, 10)\n"
   ]
  },
  {
   "cell_type": "code",
   "execution_count": null,
   "id": "00d1bf15-9998-45d1-b541-5d3eab81b530",
   "metadata": {},
   "outputs": [],
   "source": []
  },
  {
   "cell_type": "code",
   "execution_count": null,
   "id": "d7022ec2-2d4a-4dfb-ab41-d10f9eea517e",
   "metadata": {},
   "outputs": [],
   "source": []
  }
 ],
 "metadata": {
  "kernelspec": {
   "display_name": "Python 3",
   "language": "python",
   "name": "python3"
  },
  "language_info": {
   "codemirror_mode": {
    "name": "ipython",
    "version": 3
   },
   "file_extension": ".py",
   "mimetype": "text/x-python",
   "name": "python",
   "nbconvert_exporter": "python",
   "pygments_lexer": "ipython3",
   "version": "3.8.8"
  }
 },
 "nbformat": 4,
 "nbformat_minor": 5
}
