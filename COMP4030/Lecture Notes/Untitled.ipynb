{
 "cells": [
  {
   "cell_type": "markdown",
   "id": "e6538cc3-953f-4aa5-83a1-da1f41b8c7a6",
   "metadata": {},
   "source": [
    "recursive design and analyze running time rescursive programs"
   ]
  },
  {
   "cell_type": "markdown",
   "id": "bae21c93-998b-4740-b496-ed98d97114c7",
   "metadata": {},
   "source": [
    "Decrease and Conquer is a recursive design. it is about reducing the problem by a constant amount."
   ]
  },
  {
   "cell_type": "markdown",
   "id": "1d2b0e0c-c3ae-4c3b-b9c9-e67092bd461e",
   "metadata": {},
   "source": [
    "another example:collect even number from a list of numbers"
   ]
  },
  {
   "cell_type": "markdown",
   "id": "064afe73-6e66-4fbb-a8d7-9715415bbe73",
   "metadata": {},
   "source": [
    "This canb e solved easily with an iteratice design Iterate through the list and collect append to a soultion even numer."
   ]
  },
  {
   "cell_type": "code",
   "execution_count": null,
   "id": "59bf4889-9416-47fe-ba32-5edee454da65",
   "metadata": {},
   "outputs": [],
   "source": [
    "def collect_even_number(L):\n",
    "    if L==[]:\n",
    "        return []\n",
    "    if L[0]%2 !=0 :\n",
    "        return collect_even_number(L[1:])\n",
    "    else:\n",
    "        return [L[0] + collect_even_numbers(L[1:])]\n",
    "    "
   ]
  },
  {
   "cell_type": "markdown",
   "id": "8e7e3b24-9da4-4372-8c00-5e3f32a36946",
   "metadata": {},
   "source": [
    "divide and conquer , we reduce problem size n to a fraction of n"
   ]
  },
  {
   "cell_type": "markdown",
   "id": "00c864c4-6bd5-47a2-baa8-d8ffced8159f",
   "metadata": {},
   "source": [
    "binary search:\n",
    "+ input is a sorted listL, and a number x\n",
    "+ output: true if x in L"
   ]
  },
  {
   "cell_type": "code",
   "execution_count": 4,
   "id": "bd9980bb-5310-418b-84af-0eaa16cf016c",
   "metadata": {},
   "outputs": [],
   "source": [
    "def search(L,x):\n",
    "    first=0\n",
    "    last=len(L)\n",
    "    while first <last:\n",
    "        middle= (first+last)//2\n",
    "        if L[middle] == x:\n",
    "            return True\n",
    "        elif L[middle] < x :\n",
    "            first =middle+1\n",
    "        else:\n",
    "            last=middle-1\n",
    "    return False"
   ]
  },
  {
   "cell_type": "code",
   "execution_count": 5,
   "id": "a64c507a-7ae8-40c1-98df-0bf810ee6818",
   "metadata": {},
   "outputs": [
    {
     "data": {
      "text/plain": [
       "True"
      ]
     },
     "execution_count": 5,
     "metadata": {},
     "output_type": "execute_result"
    }
   ],
   "source": [
    "search([1,4,6,9,11,33,55],33)"
   ]
  },
  {
   "cell_type": "code",
   "execution_count": 12,
   "id": "9c404356-a5cd-4369-b432-31bf3b354e77",
   "metadata": {},
   "outputs": [],
   "source": [
    "def search(L,x):\n",
    "    if L==[]:\n",
    "        return False\n",
    "    if len(L)==1:\n",
    "        return L[0] == x\n",
    "    middle=len(L)//2\n",
    "    if x==L[middle]:\n",
    "        return True\n",
    "    if x<L[middle]:\n",
    "        return search(L[0:middle],x)\n",
    "    else:\n",
    "        return search(L[middle+1:],x)"
   ]
  },
  {
   "cell_type": "code",
   "execution_count": 13,
   "id": "3f99501f-0fc0-4691-8cc5-5fd6cee0b93d",
   "metadata": {},
   "outputs": [
    {
     "data": {
      "text/plain": [
       "True"
      ]
     },
     "execution_count": 13,
     "metadata": {},
     "output_type": "execute_result"
    }
   ],
   "source": [
    "search([1,4,6,9,11,33,55],33)"
   ]
  },
  {
   "cell_type": "code",
   "execution_count": 25,
   "id": "17ce7b88-d710-4c2c-8b3c-7b4e962c073f",
   "metadata": {},
   "outputs": [],
   "source": [
    "def split(A):\n",
    "    B = [ A[i] for i in range(1, len(A)) if A[i] <= A[0] ]\n",
    "    C = [ A[i] for i in range(1, len(A)) if A[i] > A[0] ]\n",
    "    return B, C\n",
    "\n",
    "def qsort(L):\n",
    "    if len(L)<=1:\n",
    "        return L\n",
    "    B, C = split(L)\n",
    "    return qsort(B) + [L[0]] + qsort(C)"
   ]
  },
  {
   "cell_type": "code",
   "execution_count": null,
   "id": "626a1627-1e81-4744-8f9c-3c54e636ccc1",
   "metadata": {},
   "outputs": [],
   "source": []
  },
  {
   "cell_type": "code",
   "execution_count": 26,
   "id": "c8144c7b-751d-47c7-8c38-ed044163fd8c",
   "metadata": {},
   "outputs": [
    {
     "data": {
      "text/plain": [
       "[1, 2, 5, 8, 10]"
      ]
     },
     "execution_count": 26,
     "metadata": {},
     "output_type": "execute_result"
    }
   ],
   "source": [
    "qsort([10,5,2,8,1])"
   ]
  },
  {
   "cell_type": "code",
   "execution_count": null,
   "id": "9e69e277-dcee-4b03-b728-8917af82712e",
   "metadata": {},
   "outputs": [],
   "source": [
    "def is_subsequence(s,t):\n",
    "    if s=='':\n",
    "        return True\n",
    "    if t=='':\n",
    "        return False\n",
    "    if s[-1]==t[-1]:\n",
    "        prefix_s=s[0:-1]\n",
    "        prefix_t=t[0:-1]\n",
    "        return is_subsequence(prefix_s,prefix_t)\n",
    "    else:\n",
    "        prefix_t=t[0:-1]\n",
    "        return is_subsequence(s,prefix_t)\n",
    "    "
   ]
  },
  {
   "cell_type": "code",
   "execution_count": 32,
   "id": "2bb3e8d7-9f5b-4420-8d38-2054a74e29b5",
   "metadata": {},
   "outputs": [
    {
     "name": "stdout",
     "output_type": "stream",
     "text": [
      "*\n",
      "\t*\n",
      "\t\t*\n",
      "\t\t\t*\n",
      "\t\t\t*\n",
      "\t*\n",
      "<__main__.BTree object at 0x7fe767786490>\n"
     ]
    }
   ],
   "source": [
    "import random\n",
    "\n",
    "class BTree:\n",
    "    def __init__(self, m=None):\n",
    "        if m is None:\n",
    "            m = random.randint(2, 7)\n",
    "        self.left = None\n",
    "        self.right = None\n",
    "        if random.randint(0, m) > 0:\n",
    "            self.left = BTree(m-1)\n",
    "        if random.randint(0, m) > 0:\n",
    "            self.right = BTree(m-1)\n",
    "\n",
    "    def print(self, indents=0):\n",
    "        print('\\t'*indents + '*')\n",
    "        if self.left is not None:\n",
    "            self.left.print(indents+1)\n",
    "        if self.right is not None:\n",
    "            self.right.print(indents+1)\n",
    "\n",
    "a_tree = BTree(3)\n",
    "a_tree.print()\n",
    "print(a_tree.left)"
   ]
  },
  {
   "cell_type": "code",
   "execution_count": 35,
   "id": "926a153d-6bd4-4acb-bd31-7804aec23e3b",
   "metadata": {},
   "outputs": [],
   "source": [
    "def count_nodes(some_tree):\n",
    "    if some_tree is None:\n",
    "        return 0\n",
    "    else:\n",
    "        return count_nodes(some_tree.left) + 1 +count_nodes(some_tree.right)"
   ]
  },
  {
   "cell_type": "code",
   "execution_count": 38,
   "id": "7cadbe06-11d1-42ea-b2dd-d7405cfdb651",
   "metadata": {},
   "outputs": [
    {
     "data": {
      "text/plain": [
       "7"
      ]
     },
     "execution_count": 38,
     "metadata": {},
     "output_type": "execute_result"
    }
   ],
   "source": [
    "a_tree = BTree(4)\n",
    "count_nodes(a_tree)"
   ]
  },
  {
   "cell_type": "code",
   "execution_count": null,
   "id": "bff3b621-e0cc-4ccb-b7b0-9d6bad03e3ca",
   "metadata": {},
   "outputs": [],
   "source": [
    "L=[10,5,20,1,2,38,2,7]\n",
    "def merge_sort(L):\n",
    "    left=L[0:len(L)//2]\n",
    "    right=L[len(L)//2:len(L)]\n",
    "    sorted_left= merage_sort(left)\n",
    "    sorted_right= merage_sort(right)\n",
    "    return merge(sorted_left,sorted_right)\n",
    "\n",
    "def merge(A,B):\n",
    "    if A==[]:\n",
    "        return B\n",
    "    if B==[]:\n",
    "        return A\n",
    "    if A[0]<B[0]:\n",
    "        return [A[0]] + merge(A[1:],B)\n",
    "    else:\n",
    "        return [B[0]] + merga(A,B[1:0])\n",
    "    \n",
    "        \n",
    "    "
   ]
  }
 ],
 "metadata": {
  "kernelspec": {
   "display_name": "Python 3",
   "language": "python",
   "name": "python3"
  },
  "language_info": {
   "codemirror_mode": {
    "name": "ipython",
    "version": 3
   },
   "file_extension": ".py",
   "mimetype": "text/x-python",
   "name": "python",
   "nbconvert_exporter": "python",
   "pygments_lexer": "ipython3",
   "version": "3.8.8"
  }
 },
 "nbformat": 4,
 "nbformat_minor": 5
}
