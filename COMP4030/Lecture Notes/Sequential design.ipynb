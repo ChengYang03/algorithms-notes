{
 "cells": [
  {
   "cell_type": "markdown",
   "id": "db0fb245-3dbe-4715-b258-3a4eefd207dc",
   "metadata": {},
   "source": [
    "# Sequential designs\n",
    "+ Loops\n",
    "+ Filtering, Accumulating\n",
    "+ Running time\n",
    "+ Nested loops"
   ]
  },
  {
   "cell_type": "markdown",
   "id": "91df2a0a-10c1-40ce-8f74-bd5542e68c4e",
   "metadata": {},
   "source": [
    "Generate a list of numbers.\n"
   ]
  },
  {
   "cell_type": "code",
   "execution_count": 17,
   "id": "21103281-446d-4f9a-8b04-82c2ef46e980",
   "metadata": {},
   "outputs": [],
   "source": [
    "#input : n\n",
    "#output: a list of n random numbers\n",
    "import random\n",
    "def gen_number(n,smallest,largest):\n",
    "    numbers=[]\n",
    "    for i in range(n):\n",
    "        numbers.append(random.rabdint(smallest,largest))\n",
    "    return numbers\n",
    "    \n",
    "def gen_numbers(n,smallest,largest):\n",
    "    return [random.randint(smallest,largest)for i in range(n) ]\n",
    "    "
   ]
  },
  {
   "cell_type": "markdown",
   "id": "6fe522eb-937a-434a-b992-083f71a4e59c",
   "metadata": {},
   "source": [
    "```\n",
    "A function/method/ procedure has inputs, output,side effects. \n",
    "The side effects are on the inputs and global varible.\n",
    "A computational problem has something unique: an input size.\n",
    "Why do we need to know about input sizes?\n",
    "The efficiency (running time,memory resource) is a function of input size.\n",
    "Typically, the larger the input is, the more resources (time/memory) the function needs.\n",
    "```"
   ]
  },
  {
   "cell_type": "code",
   "execution_count": 4,
   "id": "582c021a-27f6-498d-91e3-c044d3b7e2bd",
   "metadata": {},
   "outputs": [
    {
     "data": {
      "text/plain": [
       "5"
      ]
     },
     "execution_count": 4,
     "metadata": {},
     "output_type": "execute_result"
    }
   ],
   "source": [
    "A =gen_numbers(100,1,100)"
   ]
  },
  {
   "cell_type": "markdown",
   "id": "879bd1c8-43d6-4343-9931-43ad8b2b761b",
   "metadata": {},
   "source": [
    "Exercise: select all even numbers from a list of numbers"
   ]
  },
  {
   "cell_type": "code",
   "execution_count": 19,
   "id": "13aa97a1-8c6a-49fd-9f5a-a3700ea76725",
   "metadata": {},
   "outputs": [],
   "source": [
    "def select_even_numbers(num):\n",
    "    return[x for x in num if x%2==0]\n",
    "    "
   ]
  },
  {
   "cell_type": "code",
   "execution_count": 21,
   "id": "00ef7800-b8a5-4c14-bfea-4e74c3dc5a1a",
   "metadata": {},
   "outputs": [
    {
     "name": "stdout",
     "output_type": "stream",
     "text": [
      "[60, 66, 80, 22, 84, 50, 20, 72, 64, 72, 20, 72, 94, 84, 70, 98, 94, 36]\n"
     ]
    }
   ],
   "source": [
    "num=gen_numbers(40,1,100)\n",
    "print(select_even_numbers(num))"
   ]
  },
  {
   "cell_type": "markdown",
   "id": "5f810ec8-c6b3-4983-9983-32acc0506445",
   "metadata": {},
   "source": [
    "Programming style/paradigms\n",
    "+ procedural - computation is specified steps by steps. You specify how to do it.\n",
    "+ Declarative - You tell what the solution is\n",
    "+ Event-driven - (in webapps) "
   ]
  },
  {
   "cell_type": "code",
   "execution_count": 24,
   "id": "9fbcbc3f-ad67-4f84-bbc6-34b2156f8e8b",
   "metadata": {},
   "outputs": [],
   "source": [
    "def myfunc(num):\n",
    "    return [x for x in num if x >20 and x%5==0]"
   ]
  },
  {
   "cell_type": "code",
   "execution_count": 29,
   "id": "59495fde-7603-4652-86be-473e46bccd14",
   "metadata": {},
   "outputs": [
    {
     "name": "stdout",
     "output_type": "stream",
     "text": [
      "[65, 60, 35, 25, 95, 55]\n"
     ]
    }
   ],
   "source": [
    "num=gen_numbers(50,1,100)\n",
    "print(myfunc(num))"
   ]
  },
  {
   "cell_type": "markdown",
   "id": "b52a6e26-9231-4a80-a3c1-6fa9f26c6efe",
   "metadata": {},
   "source": [
    "Here is a more general approach."
   ]
  },
  {
   "cell_type": "code",
   "execution_count": 30,
   "id": "d2431830-d6a5-4444-890a-439df1f29f28",
   "metadata": {},
   "outputs": [],
   "source": [
    "def my_select(num,condition):\n",
    "    return [x for x in num if condition(x)]"
   ]
  },
  {
   "cell_type": "code",
   "execution_count": 34,
   "id": "3fccc853-d171-4986-942f-81ad84274003",
   "metadata": {},
   "outputs": [],
   "source": [
    "def condition(x):\n",
    "    return x>20 and x %5==0"
   ]
  },
  {
   "cell_type": "code",
   "execution_count": 35,
   "id": "5ae97f91-7d65-4dfe-b528-15e091319858",
   "metadata": {},
   "outputs": [
    {
     "name": "stdout",
     "output_type": "stream",
     "text": [
      "[65, 60, 35, 25, 95, 55]\n"
     ]
    }
   ],
   "source": [
    "print(my_select(num,condition))"
   ]
  },
  {
   "cell_type": "markdown",
   "id": "93484d6e-2d1a-43e8-8662-4c8ce0a5d6e2",
   "metadata": {},
   "source": [
    "\n",
    "```\n",
    "lambda is a nameless function.\n",
    "these two things ara the same:\n",
    "    def square(x):\n",
    "        return x*x\n",
    "     square=lambda x:x*x\n",
    "```\n"
   ]
  },
  {
   "cell_type": "markdown",
   "id": "a0cdefc8-9d3a-4136-a6aa-51915ed3d652",
   "metadata": {},
   "source": [
    "# Running time Sequential functions"
   ]
  },
  {
   "cell_type": "code",
   "execution_count": 36,
   "id": "dec8db53-1dbc-4638-bd2c-bffc5b3d5b94",
   "metadata": {},
   "outputs": [],
   "source": [
    "import random\n",
    "def gen_number(n,smallest,largest):\n",
    "    numbers=[]\n",
    "    for i in range(n):\n",
    "        numbers.append(random.rabdint(smallest,largest))\n",
    "    return numbers"
   ]
  },
  {
   "cell_type": "markdown",
   "id": "e7d44b26-dbf6-4420-87b5-25485f1b3f26",
   "metadata": {},
   "source": [
    "What is the running time of gen_numbers?\n",
    "+ O(n)\n",
    "+ takes how ever long it is.\n",
    "\n",
    "O(n) means\n",
    "+ linear correlation inputsize and running time\n",
    "+ the proaccesses memory approximately n time\n",
    "+ a representation of how the program scales with n"
   ]
  },
  {
   "cell_type": "markdown",
   "id": "0f346872-ce39-41d9-9ef8-f8bfb910eca4",
   "metadata": {},
   "source": [
    "When we describe running times (r.t) of algorithms/programs:\n",
    "+ The r.t. are relatice.\n",
    "    + They are not in raw time (e.g. seconds).\n",
    "    + They are insensitive to constant-factor difference.\n",
    "+ They are functions of input size."
   ]
  },
  {
   "cell_type": "code",
   "execution_count": null,
   "id": "943f65cc-5430-40fc-a580-ce7503633a3e",
   "metadata": {},
   "outputs": [],
   "source": []
  }
 ],
 "metadata": {
  "kernelspec": {
   "display_name": "Python 3",
   "language": "python",
   "name": "python3"
  },
  "language_info": {
   "codemirror_mode": {
    "name": "ipython",
    "version": 3
   },
   "file_extension": ".py",
   "mimetype": "text/x-python",
   "name": "python",
   "nbconvert_exporter": "python",
   "pygments_lexer": "ipython3",
   "version": "3.8.8"
  }
 },
 "nbformat": 4,
 "nbformat_minor": 5
}
