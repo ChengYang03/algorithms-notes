{
 "cells": [
  {
   "cell_type": "markdown",
   "id": "a1ac0260-a186-4802-9018-c7097c2da06e",
   "metadata": {},
   "source": [
    "# Running Time Funictions and Complexity"
   ]
  },
  {
   "cell_type": "markdown",
   "id": "05807e25-09b9-4451-aac2-23016ef3ca85",
   "metadata": {},
   "source": [
    "key ideas:\n",
    "\n",
    "+ A running time function of a program is a function of the program's input size.\n",
    "\n",
    "+ Running time complexity, e.g. $\\Theta(n)$, is a set of running time functions.\n",
    "\n",
    "+ Running time complexity is not exact.  It describes magnitudes.\n",
    "\n",
    "+ Running time complexity describes the magnitudes of growth.\n",
    "\n",
    "+ An \"additive\" difference makes no difference in complexity.\n",
    "\n",
    "+ A \"multiplicative\" difference makes no difference in complexity.\n",
    "\n"
   ]
  },
  {
   "cell_type": "markdown",
   "id": "eddbd931-c4c2-45c4-9488-d0398dbb70f3",
   "metadata": {},
   "source": [
    "An example"
   ]
  },
  {
   "cell_type": "code",
   "execution_count": 3,
   "id": "7d9de34d-3f02-4e5e-9a31-8b21cd7d6704",
   "metadata": {},
   "outputs": [],
   "source": [
    "import random\n",
    "def gen_numbers(n, smallest, largest):\n",
    "    numbers = []\n",
    "    for i in range(n):\n",
    "        numbers.append(random.randint(smallest, largest))\n",
    "    return numbers"
   ]
  },
  {
   "cell_type": "markdown",
   "id": "d4c3fcfa-d4c9-4019-b888-b5101bebdc49",
   "metadata": {},
   "source": [
    "n is the number of items in the input list, for example,  of the program"
   ]
  },
  {
   "cell_type": "markdown",
   "id": "fbc526b0-a2e1-4033-8991-484775d6680e",
   "metadata": {},
   "source": [
    "$T(n)$ is the sunning time "
   ]
  },
  {
   "cell_type": "markdown",
   "id": "b90a3a7f-e2e8-4bf5-a749-19aa566a3fe2",
   "metadata": {},
   "source": [
    "Counting the number of steps a program takes frees us from the underline architecture"
   ]
  },
  {
   "cell_type": "markdown",
   "id": "a8579f4e-4ff6-438b-9875-ea8038cf1fa1",
   "metadata": {},
   "source": [
    "$T(n)$ is the the number of step the program take when the input size is $n$."
   ]
  },
  {
   "cell_type": "markdown",
   "id": "d97679cd-6e9c-48d5-a0aa-326caf43c8bd",
   "metadata": {},
   "source": [
    "Often, we say $T(n)$ is the running time of the program when the input size is n"
   ]
  },
  {
   "cell_type": "markdown",
   "id": "ca59b963-0188-4f11-be28-b5cd86aa6dc3",
   "metadata": {},
   "source": [
    "What is $T(7)$\n"
   ]
  },
  {
   "cell_type": "markdown",
   "id": "7ea3d7f9-3f16-4527-aba9-3046fabcda61",
   "metadata": {},
   "source": [
    "$T(7)$ is 36"
   ]
  },
  {
   "cell_type": "markdown",
   "id": "6d6a85a3-5191-4767-8a56-a01e45a2a565",
   "metadata": {},
   "source": [
    "### Another example"
   ]
  },
  {
   "cell_type": "code",
   "execution_count": null,
   "id": "ae95be65-986c-4521-ab21-27ac43db2b69",
   "metadata": {},
   "outputs": [],
   "source": [
    "def prog2(L):\n",
    "    for i in range(len(L)):\n",
    "        s= L[i]*L[i]+1\n",
    "        print(i)\n",
    "    s=s*5+10\n",
    "    return s"
   ]
  },
  {
   "cell_type": "markdown",
   "id": "e72d1013-2bb6-430b-9691-227f3a429ec4",
   "metadata": {},
   "source": [
    "Counting steps is tedious"
   ]
  },
  {
   "cell_type": "markdown",
   "id": "da40c2d2-2692-45e9-8f1d-2768dfca3d85",
   "metadata": {},
   "source": [
    "A step is not equl a step. An addition is faster than a multiplication. Accessing memory is even slower."
   ]
  },
  {
   "cell_type": "markdown",
   "id": "7d75e65c-61ae-4bcc-83ef-5b302b3902ad",
   "metadata": {},
   "source": [
    "If we want to count the steps accurately, than we need to go back the underlying architecture"
   ]
  },
  {
   "cell_type": "markdown",
   "id": "9ad76ab8-4803-40b8-8cf2-6c0191127c59",
   "metadata": {},
   "source": [
    "We need a way to free ourselves from counting steps exactly, while still describing the running time of a program meaning fully"
   ]
  },
  {
   "cell_type": "markdown",
   "id": "ba44c915-85de-49d9-8197-d46445f0a34e",
   "metadata": {},
   "source": [
    "**A Solution** : use abstracts to  describe the number of steps."
   ]
  },
  {
   "cell_type": "markdown",
   "id": "1d2761b2-28fb-4b1e-aa5f-42ed03627845",
   "metadata": {},
   "source": [
    "$T(n)$= a * n +b where a and b are 2 numbers, which depend on the specific underlying architecture"
   ]
  },
  {
   "cell_type": "markdown",
   "id": "08ea1f11-0f1f-4a44-9926-fbc9f9a91749",
   "metadata": {},
   "source": [
    "So, if the input list has 25 items, $T(25)=25a +b"
   ]
  },
  {
   "cell_type": "markdown",
   "id": "58bd200e-ec0e-4145-82ea-05761b8967af",
   "metadata": {},
   "source": [
    "$T(n)$ grows linearly as a function of n"
   ]
  },
  {
   "cell_type": "markdown",
   "id": "51a2282b-e786-492b-986d-d6c7c85385c6",
   "metadata": {},
   "source": [
    "### another example "
   ]
  },
  {
   "cell_type": "code",
   "execution_count": null,
   "id": "c231ab9e-ca5b-4d7f-8dd9-d9d8dd378d50",
   "metadata": {},
   "outputs": [],
   "source": [
    "def prog3(L):\n",
    "    s=0\n",
    "    for i in range(len(L)):\n",
    "        s=L[i]*L[i]+1\n",
    "        print(i,y)\n",
    "        s=L[i]**2 -10*l3n(L)\n",
    "    s=s*5+10\n",
    "    s=s*s/7\n",
    "    return s"
   ]
  },
  {
   "cell_type": "markdown",
   "id": "ecd3d567-a59b-4e52-9890-a8b58f7aad1d",
   "metadata": {},
   "source": [
    "$T(n)=c*n+d"
   ]
  },
  {
   "cell_type": "markdown",
   "id": "4a3d1eaa-4109-4262-a7f2-3f53a75bbd16",
   "metadata": {},
   "source": [
    "Compare the running times of prog2 and prog3, we see the prog3 does more things, this means "
   ]
  },
  {
   "cell_type": "markdown",
   "id": "86a882c5-7f1a-4217-9748-2c5c4b8b16e4",
   "metadata": {},
   "source": [
    "**Summary**\n"
   ]
  },
  {
   "cell_type": "markdown",
   "id": "cc28a157-45ce-4c4f-b8fa-ff9ae4ff4712",
   "metadata": {},
   "source": [
    "1. running time functions are mathmatical functions of input size\n",
    "2. Two different running time function may have the same complexity\n",
    "3. Running time complexity measures magnitudes of growth"
   ]
  },
  {
   "cell_type": "markdown",
   "id": "f5cee18c-bb11-410d-a600-b7478eb5d262",
   "metadata": {},
   "source": [
    "In abakyzing prog2, we fund that $T(n) - an + b$ where a and b are two number that depend on the architecture."
   ]
  },
  {
   "cell_type": "markdown",
   "id": "65d89cca-9a39-4611-a762-c0f1738bf794",
   "metadata": {},
   "source": [
    "we used a and b to describe the constant computation that is too tedious to count exactly"
   ]
  },
  {
   "cell_type": "markdown",
   "id": "d8db4762-c9b3-43bd-abdf-c093fe95b056",
   "metadata": {},
   "source": [
    "when we say that $T(n) \\in O(n^2)$, it means that $T(n)$ takes at most order of "
   ]
  },
  {
   "cell_type": "code",
   "execution_count": null,
   "id": "4e7b29d1-d923-408e-b86d-c8f014834d21",
   "metadata": {},
   "outputs": [],
   "source": []
  },
  {
   "cell_type": "markdown",
   "id": "930bfb69-abf6-491c-86aa-a35d89b02bad",
   "metadata": {},
   "source": [
    "$ T(n \\in O(f(n))$) if $T(n)<= c*f(n)$ fir large value of n"
   ]
  },
  {
   "cell_type": "markdown",
   "id": "b8b038a4-6666-413a-9350-46aee4d7216b",
   "metadata": {},
   "source": [
    "example:\n",
    "+ $T(n) \\in O(n)$ means $T(n) <= c*n$ for number c (for large value of n)"
   ]
  },
  {
   "cell_type": "markdown",
   "id": "f3d02c51-92c4-4743-9f7c-4f52a5b1b0e7",
   "metadata": {},
   "source": [
    "Ex. show $10n+5 \\in O(n)$"
   ]
  },
  {
   "cell_type": "markdown",
   "id": "7d44eaa5-ccb1-482f-bc9c-b3099e62e384",
   "metadata": {},
   "source": [
    "look for dominant term a d ignore the constant "
   ]
  },
  {
   "cell_type": "markdown",
   "id": "bbabeb94-b41c-4697-b327-e5b7fb5ed1af",
   "metadata": {},
   "source": [
    "using definition $10n +5\\le 10n+5n$ for all values fo $n>5$"
   ]
  },
  {
   "cell_type": "code",
   "execution_count": null,
   "id": "b8ef7893-fade-40eb-b7d4-36df2362dd19",
   "metadata": {},
   "outputs": [],
   "source": [
    "so to determine if $T(n)\\in O(n)$, "
   ]
  },
  {
   "cell_type": "markdown",
   "id": "99bdfd16-197e-47ce-a8cb-85b21da8139e",
   "metadata": {},
   "source": [
    "show $5n^2+3n^3+2 \\in O(n^4)$"
   ]
  },
  {
   "cell_type": "markdown",
   "id": "447c4a95-f20e-4c6e-9a03-ab172d47119a",
   "metadata": {},
   "source": [
    "Ex4: suppose that $T_1(n) \\in O(n^2)$ and $T_2(n) \\in O(n^3)$"
   ]
  },
  {
   "cell_type": "markdown",
   "id": "ccbb10b5-0e49-4ff7-9db6-140d06fd0cab",
   "metadata": {},
   "source": [
    "we can't not say $T_1(n)$ faster than $T_2(n)$ "
   ]
  },
  {
   "cell_type": "markdown",
   "id": "6ab55a36-eaaf-4658-9868-584b483898c7",
   "metadata": {},
   "source": [
    "$O$ is a measure of complexity\n",
    "We can measure running time complexity or memory complexity or ther complexity\n",
    "Most of the most time, we are interested in worst-case complexity because\n",
    "+ best case complexity is too optimisitic. For example best case of complexity of finding an element in a list is $O(1)$\n",
    "+ average-case complexity is usually hard,even though it's more meaningful"
   ]
  },
  {
   "cell_type": "markdown",
   "id": "e9f17e6b-5042-4136-8be2-1923a2989da0",
   "metadata": {},
   "source": [
    "---\n",
    "example $5n^3 -100 \\in O(n^2)$because when $n=2$ $5n^3-100=-40 \\le 3$"
   ]
  },
  {
   "cell_type": "markdown",
   "id": "3e99a8c2-edb3-4d4e-888b-81ca32c2a3c0",
   "metadata": {},
   "source": [
    "if this reasoning correct?"
   ]
  },
  {
   "cell_type": "markdown",
   "id": "05aed3b4-db17-47fe-9ef7-4b1d9d8d563b",
   "metadata": {},
   "source": [
    "intuitive undersianding give us some trouble here."
   ]
  },
  {
   "cell_type": "markdown",
   "id": "cfcd86a7-5b4c-4bfb-b5e3-08c55be4598f",
   "metadata": {},
   "source": [
    "Mathmaticlly, it is possible that $5n^3-100 \\le c*n^2 $ for all large values"
   ]
  },
  {
   "cell_type": "markdown",
   "id": "cea21c42-1b13-4790-a950-f94c36ffa577",
   "metadata": {},
   "source": [
    "\n",
    "Algebrarically, if divide both sides by $n^3$ we got this:\n",
    "$5-100/n^3=c/n$\n"
   ]
  },
  {
   "cell_type": "markdown",
   "id": "c588dbb6-b65b-4aa1-8f4f-262c3407f328",
   "metadata": {},
   "source": [
    "Complexity is important for large values of n"
   ]
  },
  {
   "cell_type": "markdown",
   "id": "ab5880f2-b32b-48a8-a3d3-845b2424687d",
   "metadata": {},
   "source": [
    "## Lower Bound $\\Omega$"
   ]
  },
  {
   "cell_type": "markdown",
   "id": "09044b9b-5632-4d4a-9776-97acea7ac5e6",
   "metadata": {},
   "source": [
    "we say $T(n) \\in \\omega(f(n))$ if $ T(n) \\gr "
   ]
  },
  {
   "cell_type": "markdown",
   "id": "6ed2d353-49f4-477d-9da6-e08f8be9c4d4",
   "metadata": {},
   "source": [
    "### tight bound $\\Theta$"
   ]
  },
  {
   "cell_type": "markdown",
   "id": "69997fef-fad6-4a98-84de-90764bf34fb8",
   "metadata": {},
   "source": [
    "$T(n) \\in \\theta(f(n)) $ if $T(n) \\in O(f(n))$ and $T(n) \\in \\Theta(f(n))$"
   ]
  },
  {
   "cell_type": "code",
   "execution_count": null,
   "id": "5093514c-baf3-45dc-9ba7-aa58891b4dab",
   "metadata": {},
   "outputs": [],
   "source": []
  }
 ],
 "metadata": {
  "kernelspec": {
   "display_name": "Python 3",
   "language": "python",
   "name": "python3"
  },
  "language_info": {
   "codemirror_mode": {
    "name": "ipython",
    "version": 3
   },
   "file_extension": ".py",
   "mimetype": "text/x-python",
   "name": "python",
   "nbconvert_exporter": "python",
   "pygments_lexer": "ipython3",
   "version": "3.8.8"
  }
 },
 "nbformat": 4,
 "nbformat_minor": 5
}
