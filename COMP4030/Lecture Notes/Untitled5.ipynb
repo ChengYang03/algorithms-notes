{
 "cells": [
  {
   "cell_type": "markdown",
   "id": "a36e37bd-a76a-45ef-8ccd-e47f2b021c98",
   "metadata": {},
   "source": [
    "item:{apple,orange,banaba,melon}\n",
    "\n",
    "weight:{2,3,1,4}\n",
    "\n",
    "profit:{4,5,3,7}\n",
    "\n",
    "which items do we select to maximize the profit?\n",
    "\n"
   ]
  },
  {
   "cell_type": "code",
   "execution_count": 8,
   "id": "7cf387ef-799d-4aa2-91d1-192b9bb353be",
   "metadata": {},
   "outputs": [
    {
     "data": {
      "text/plain": [
       "10"
      ]
     },
     "execution_count": 8,
     "metadata": {},
     "output_type": "execute_result"
    }
   ],
   "source": [
    "def knapsack(weight,profit,c,i):\n",
    "    if i<0:\n",
    "        return 0\n",
    "    profit_1=knapsack(weight,profit,c,i-1)\n",
    "    if c<weight[i]:\n",
    "        return profit_1\n",
    "    else:\n",
    "        \n",
    "        profit_2=profit[i]+knapsack(weight,profit,c-weight[i],i-1)\n",
    "        return max(profit_1,profit_2)\n",
    "def KNAPSACK(weight,profit,c):\n",
    "    return knapsack(weight,profit,c,len(weight)-1)\n",
    "weight=[2,3,1,4]\n",
    "profit=[4,5,3,7]\n",
    "c=5\n",
    "KNAPSACK(weight,profit,5)\n"
   ]
  },
  {
   "cell_type": "code",
   "execution_count": 12,
   "id": "53b4130d-4a9c-43e2-84fd-fe85443cf89b",
   "metadata": {},
   "outputs": [
    {
     "name": "stdout",
     "output_type": "stream",
     "text": [
      "[0, 0]\n",
      "[0, 1]\n",
      "[0, 2]\n",
      "[1, 0]\n",
      "[1, 1]\n",
      "[1, 2]\n",
      "[2, 0]\n",
      "[2, 1]\n",
      "[2, 2]\n"
     ]
    }
   ],
   "source": [
    "def all_tuples(solution,n,i):\n",
    "    if i==len(solution):\n",
    "        print(solution)\n",
    "    else:\n",
    "        for possibility in range(n):\n",
    "            solution[i]=possibility\n",
    "            all_tuples(solution,n,i+1)\n",
    "all_tuples([None,None],3,0)"
   ]
  },
  {
   "cell_type": "code",
   "execution_count": 23,
   "id": "84870b3b-3933-42b5-985f-6e7c61bb1571",
   "metadata": {},
   "outputs": [
    {
     "data": {
      "text/plain": [
       "[0, 1, 2, 3]"
      ]
     },
     "execution_count": 23,
     "metadata": {},
     "output_type": "execute_result"
    }
   ],
   "source": [
    "solution=[None]*4\n",
    "possibilities = []\n",
    "possibilities = [ x for x in range(len(solution)) if x not in solution[0:2] ]\n",
    "possibilities"
   ]
  },
  {
   "cell_type": "code",
   "execution_count": null,
   "id": "60a9b526-4be7-4b06-ab88-08e3e55080bf",
   "metadata": {},
   "outputs": [],
   "source": []
  },
  {
   "cell_type": "code",
   "execution_count": null,
   "id": "10da781f-3a67-460e-9710-f3fe0acd145c",
   "metadata": {},
   "outputs": [],
   "source": []
  }
 ],
 "metadata": {
  "kernelspec": {
   "display_name": "Python 3",
   "language": "python",
   "name": "python3"
  },
  "language_info": {
   "codemirror_mode": {
    "name": "ipython",
    "version": 3
   },
   "file_extension": ".py",
   "mimetype": "text/x-python",
   "name": "python",
   "nbconvert_exporter": "python",
   "pygments_lexer": "ipython3",
   "version": "3.8.8"
  }
 },
 "nbformat": 4,
 "nbformat_minor": 5
}
