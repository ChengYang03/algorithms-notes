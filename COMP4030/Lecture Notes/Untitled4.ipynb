{
 "cells": [
  {
   "cell_type": "markdown",
   "id": "58813054-f3fb-4f6c-ab59-d850cb517e72",
   "metadata": {},
   "source": [
    "an important ability in ll these is the ability to understand the semantics of a function definition"
   ]
  },
  {
   "cell_type": "markdown",
   "id": "566c5d8a-8662-43dd-8263-14a8a7af75c5",
   "metadata": {},
   "source": [
    "notes:\n",
    "\n",
    "1. it's not as easy as it seem. many of us had problems determining the running time function of a recursive program. the main challenge is not being able to determine the running time of a recursive call.\n",
    "\n",
    "2. as we learn more advanced recursive techniques, it's important to understand these conceprs very very well"
   ]
  },
  {
   "cell_type": "markdown",
   "id": "8dbd6edf-717f-475d-a4ba-04802534bfde",
   "metadata": {},
   "source": [
    "dynamic programming\n",
    "\n",
    "backtracking"
   ]
  },
  {
   "cell_type": "markdown",
   "id": "2df8b680-a26b-486c-a006-edbf3f8ae863",
   "metadata": {},
   "source": [
    "we walk up a stair, and we wnat to count the nof ways to go n step"
   ]
  },
  {
   "cell_type": "code",
   "execution_count": null,
   "id": "5209477e-76c8-4007-a0ef-4d1c82e22e34",
   "metadata": {},
   "outputs": [],
   "source": [
    "table=dict()\n",
    "def climb(n):\n",
    "    if n in Table:\n",
    "        return table[n]\n",
    "    if n==1:\n",
    "        table[n]=1\n",
    "        return 1\n",
    "    if n==2:\n",
    "        table[n]=2\n",
    "        return 2\n",
    "    else:\n",
    "        output=climb(n-1)+climb(n-2)\n",
    "        table[n]=output\n",
    "        return  output\n",
    "    \n",
    "        \n",
    "    \n",
    "    "
   ]
  },
  {
   "cell_type": "code",
   "execution_count": null,
   "id": "4b6ef107-bc38-48ff-bc6e-6313a422d288",
   "metadata": {},
   "outputs": [],
   "source": [
    "climb(1)"
   ]
  },
  {
   "cell_type": "markdown",
   "id": "56fe4061-8533-48a2-8585-f420d78b724a",
   "metadata": {},
   "source": [
    "the calculation are done twice"
   ]
  },
  {
   "cell_type": "markdown",
   "id": "ecbffa32-93b2-4f0f-b1fa-2131b36cbe2c",
   "metadata": {},
   "source": [
    "we will use table to store output of climb using the key n"
   ]
  },
  {
   "cell_type": "markdown",
   "id": "fbd6d04b-ef00-437f-9505-28b064ceb3ad",
   "metadata": {},
   "source": [
    "table [n] store the output of climb(n)"
   ]
  },
  {
   "cell_type": "code",
   "execution_count": null,
   "id": "9b15fbc3-d1b4-4a8a-ab62-1494d7e5005d",
   "metadata": {},
   "outputs": [],
   "source": []
  },
  {
   "cell_type": "code",
   "execution_count": null,
   "id": "089808f7-49d2-464b-a7a6-f5e82ea25324",
   "metadata": {},
   "outputs": [],
   "source": []
  }
 ],
 "metadata": {
  "kernelspec": {
   "display_name": "Python 3",
   "language": "python",
   "name": "python3"
  },
  "language_info": {
   "codemirror_mode": {
    "name": "ipython",
    "version": 3
   },
   "file_extension": ".py",
   "mimetype": "text/x-python",
   "name": "python",
   "nbconvert_exporter": "python",
   "pygments_lexer": "ipython3",
   "version": "3.8.8"
  }
 },
 "nbformat": 4,
 "nbformat_minor": 5
}
