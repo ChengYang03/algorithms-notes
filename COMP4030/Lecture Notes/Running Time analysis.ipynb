{
 "cells": [
  {
   "cell_type": "markdown",
   "id": "82b0b975-4b56-4acc-affb-5946d47c024d",
   "metadata": {},
   "source": [
    "### Running Time Analysis\n",
    "Agenda:\n",
    "+ Find running equaltions of iteratic programs\n",
    "+ Find $O, \\Omega, \\Theta$  of running time functions"
   ]
  },
  {
   "cell_type": "markdown",
   "id": "338663d0-049a-49d7-a12c-7e9d3627be0a",
   "metadata": {},
   "source": [
    "Basic skills:\n",
    "+ Given a program, determine its  running time function.\n",
    "+ Determine the complexity of the running time function\n",
    "    "
   ]
  },
  {
   "cell_type": "code",
   "execution_count": 1,
   "id": "15154b19-77f0-49e7-9be6-e0c1b38712c7",
   "metadata": {},
   "outputs": [],
   "source": [
    "def prog1(L):\n",
    "    print(len(L))\n",
    "    print(L[0])"
   ]
  },
  {
   "cell_type": "markdown",
   "id": "23331bcc-592d-4ab8-87db-6bc044e1a09c",
   "metadata": {},
   "source": [
    "$T(n) =a $ for some constant number $a$ "
   ]
  },
  {
   "cell_type": "markdown",
   "id": "d50bc170-edc7-418a-9108-18dddf47a204",
   "metadata": {},
   "source": [
    "$T(n) \\in O(1)$ \n"
   ]
  },
  {
   "cell_type": "markdown",
   "id": "83c3b1fa-3e4c-4c84-bccd-b5e34decf8ab",
   "metadata": {},
   "source": [
    "$T(n )\\in \\Omega(1)$"
   ]
  },
  {
   "cell_type": "markdown",
   "id": "5ad388e5-9229-44db-ba69-a75b269f7ccd",
   "metadata": {},
   "source": [
    "$T(n) \\in \\Theta(1)$"
   ]
  },
  {
   "cell_type": "code",
   "execution_count": 2,
   "id": "a6e3e26a-666f-4624-bb18-a87de8d4dd1f",
   "metadata": {},
   "outputs": [],
   "source": [
    "def prog2(L):\n",
    "    s=0                     #b step\n",
    "    for x in L:             #n step\n",
    "        s+=x                   #d step               \n",
    "    return s*s+10           #c step"
   ]
  },
  {
   "cell_type": "markdown",
   "id": "03c26b2a-782e-45c7-9711-0e381b186ddb",
   "metadata": {},
   "source": [
    "$T(n) = a + d*n$"
   ]
  },
  {
   "cell_type": "markdown",
   "id": "5485ee6f-a11b-4091-84b2-fb3691430537",
   "metadata": {},
   "source": [
    "$d*n \\le T(n)\\le (a+d)*n% for all $n> 1$"
   ]
  },
  {
   "cell_type": "markdown",
   "id": "24e3fa88-ff12-4790-8d96-bd12453f5d39",
   "metadata": {},
   "source": [
    "with  the constant d, we show that $T(n) \\in \\Omega(n) $\n"
   ]
  },
  {
   "cell_type": "markdown",
   "id": "423028ce-e2a6-432d-babe-36c5d186f769",
   "metadata": {},
   "source": [
    "with the constant (a+d), we show that $T(n) \\in O(n)$"
   ]
  },
  {
   "cell_type": "markdown",
   "id": "528addd9-34b0-42f0-b14c-ae76c1399392",
   "metadata": {},
   "source": [
    "This means $T(n) \\in \\Theta(n)$"
   ]
  },
  {
   "cell_type": "code",
   "execution_count": null,
   "id": "3855e299-42e2-4e4d-b453-d94d1cabc7f4",
   "metadata": {},
   "outputs": [],
   "source": [
    "def prog3(L):\n",
    "    s=0\n",
    "    for x in L:\n",
    "        for i in range(len(L)):\n",
    "            for j in range(i+1,len(L)):\n",
    "                s+=x*L[i]+L[j]\n",
    "    return s"
   ]
  },
  {
   "cell_type": "markdown",
   "id": "a43c63f9-0334-4a0d-8603-3a6b61263ab9",
   "metadata": {},
   "source": [
    "$T(n) \\le a+b*n*n*n = a+b*n^3 $"
   ]
  },
  {
   "cell_type": "markdown",
   "id": "65ba7125-2a53-4ef1-9160-9c6a09467713",
   "metadata": {},
   "source": [
    "$ T(n) \\le (a+b)*n^3$ for all $ n>1$"
   ]
  },
  {
   "cell_type": "markdown",
   "id": "7cc27494-1942-4680-ad1b-b817f9bb0305",
   "metadata": {},
   "source": [
    "$T(n) \\in O(n^3) $"
   ]
  },
  {
   "cell_type": "markdown",
   "id": "a676bcdf-4547-41d0-b6e6-8289a11d54c6",
   "metadata": {},
   "source": [
    "$ T(n) \\ge a +b*n*n*1 = a+b*n^2 \\ge b*n^2 $"
   ]
  },
  {
   "cell_type": "markdown",
   "id": "d02e0bf0-ab89-49c1-8794-2a75b8ce3cf0",
   "metadata": {},
   "source": [
    "To determine the tight bound, we will have to count the steps on tine 5-6 more explicity"
   ]
  },
  {
   "cell_type": "markdown",
   "id": "e0268432-8109-41ef-b7f6-5fdc91e23ccd",
   "metadata": {},
   "source": [
    "line 3-4: $n^2$ step"
   ]
  },
  {
   "cell_type": "markdown",
   "id": "8a57d4b9-a061-46d6-8e4f-9f30cfc04896",
   "metadata": {},
   "source": [
    "line t depends $i$ and $i$ runs from 0 to $n-1$"
   ]
  },
  {
   "cell_type": "markdown",
   "id": "3460365c-67de-4533-b394-c07574957723",
   "metadata": {},
   "source": [
    "$i=0$, line 5-6 take:$n-1$ step"
   ]
  },
  {
   "cell_type": "markdown",
   "id": "a1e42700-d823-4463-9f4b-5f674d019d14",
   "metadata": {},
   "source": [
    "\n",
    "$i=1$, line 5-6 take:$n-2$ step\n"
   ]
  },
  {
   "cell_type": "markdown",
   "id": "19078a21-c91d-4cfe-aea3-0511d369589e",
   "metadata": {},
   "source": [
    "\n",
    "$i=2$, line 5-6 take:$n-3$ step\n"
   ]
  },
  {
   "cell_type": "markdown",
   "id": "191e04a2-1ace-457e-909d-24f82a549ee0",
   "metadata": {},
   "source": [
    "...."
   ]
  },
  {
   "cell_type": "markdown",
   "id": "8e9f6d66-3e61-44dd-aac5-b1667a2e27c7",
   "metadata": {},
   "source": [
    "\n",
    "$i=n-3$, line 5-6 take:$2$ step\n"
   ]
  },
  {
   "cell_type": "markdown",
   "id": "052bf0d0-fd8e-425f-ad34-7e9ed1f5e44f",
   "metadata": {},
   "source": [
    "\n",
    "$i=n-2$, line 5-6 take:$1$ step\n"
   ]
  },
  {
   "cell_type": "markdown",
   "id": "3fb05e1c-7150-4934-a7c9-b4a1e13db3d9",
   "metadata": {},
   "source": [
    "$i=n-1$, line 5-6 take:$0$ step"
   ]
  },
  {
   "cell_type": "code",
   "execution_count": null,
   "id": "2f63f2a5-b058-4b3d-856c-0f151c96989c",
   "metadata": {},
   "outputs": [],
   "source": [
    "def prog3(L):\n",
    "    s=0\n",
    "    for x in L:\n",
    "        for i in range(len(L)):\n",
    "            for j in range(i+1,len(L)):\n",
    "                s+=x*L[i]+L[j]\n",
    "    return s"
   ]
  },
  {
   "cell_type": "markdown",
   "id": "7ab21994-51ee-4355-80f7-e1681bc88d75",
   "metadata": {},
   "source": [
    "$ 1+2+3 +...+(n-2)+(n-1)=(n-1)*n/2$"
   ]
  },
  {
   "cell_type": "markdown",
   "id": "fbce7bdd-c9a8-4691-87ba-d122e47927c6",
   "metadata": {},
   "source": [
    "So, line 4-6 tkae $ b*(n-1)*n/2 $"
   ]
  },
  {
   "cell_type": "markdown",
   "id": "e0458c45-6e6d-424a-991a-48d1091e8392",
   "metadata": {},
   "source": [
    "$T(n)=a+b*n*n*(n-1)/2$"
   ]
  },
  {
   "cell_type": "markdown",
   "id": "4609389d-6b97-43fb-8644-cf95c7f6b3f2",
   "metadata": {},
   "source": [
    "we already establish that $T(n) \\in O(n^3) $ and $T(n )\\in\\Omega(n^2)$"
   ]
  },
  {
   "cell_type": "markdown",
   "id": "9e65e9ac-3b07-45cf-82ca-5ce32682625d",
   "metadata": {},
   "source": [
    "$T(n) \\ge b*n^3/4 $"
   ]
  },
  {
   "cell_type": "markdown",
   "id": "fd5c7554-9188-47c4-9280-c178d8672b53",
   "metadata": {},
   "source": [
    "This means $T(n) \\in \\Theta(n^3)$"
   ]
  },
  {
   "cell_type": "markdown",
   "id": "02fad497-959d-404c-a52e-6e7cc57cd22a",
   "metadata": {},
   "source": [
    "### How about this ?"
   ]
  },
  {
   "cell_type": "code",
   "execution_count": 13,
   "id": "ad68ac84-d1de-40d2-b8b9-d4517e64aba8",
   "metadata": {},
   "outputs": [],
   "source": [
    "def prog4(L,x):\n",
    "    if len(L)==0:             # t(n)\n",
    "        return 0              # a step (contant)\n",
    "            \n",
    "    first =L.pop(0)           # b step (contant)\n",
    "    if x ==first:             # c step (contant)\n",
    "        return 1+prog4(L,x)   #???\n",
    "    else:\n",
    "        return prog4(L,x)    #???\n",
    "    #T(n) = sum of all step ub line 9-16\n",
    "    #T(n)= d+T(n-1)\n",
    "    #input size of the funciton call is n-1"
   ]
  },
  {
   "cell_type": "code",
   "execution_count": 14,
   "id": "5f864f39-c75e-4bb4-81cc-af0501b68ef4",
   "metadata": {},
   "outputs": [
    {
     "data": {
      "text/plain": [
       "0"
      ]
     },
     "execution_count": 14,
     "metadata": {},
     "output_type": "execute_result"
    }
   ],
   "source": [
    "a=[5,5,10,2,1,5]\n",
    "prog4(a,3)"
   ]
  },
  {
   "cell_type": "markdown",
   "id": "d84db053-6d83-4461-bf92-9a5c65404b6d",
   "metadata": {},
   "source": [
    "what does line 4 do? remover and return the first item of the list"
   ]
  },
  {
   "cell_type": "markdown",
   "id": "9c8a3ec6-c1b5-405d-9de7-ad94c0979f7b",
   "metadata": {},
   "source": [
    "what dies this function do?"
   ]
  },
  {
   "cell_type": "markdown",
   "id": "6b7a5f11-3749-4243-ab14-7431ecfb282b",
   "metadata": {},
   "source": [
    "Here is a simple example yhat shows if we can express of our thinking/explanation clearly in English, we can understand the logic of aprogram much better"
   ]
  },
  {
   "cell_type": "code",
   "execution_count": null,
   "id": "2fc95b68-3d2d-4da5-a8ed-e54bccc983b6",
   "metadata": {},
   "outputs": [],
   "source": []
  }
 ],
 "metadata": {
  "kernelspec": {
   "display_name": "Python 3",
   "language": "python",
   "name": "python3"
  },
  "language_info": {
   "codemirror_mode": {
    "name": "ipython",
    "version": 3
   },
   "file_extension": ".py",
   "mimetype": "text/x-python",
   "name": "python",
   "nbconvert_exporter": "python",
   "pygments_lexer": "ipython3",
   "version": "3.8.8"
  }
 },
 "nbformat": 4,
 "nbformat_minor": 5
}
