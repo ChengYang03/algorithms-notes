{
 "cells": [
  {
   "cell_type": "code",
   "execution_count": 1,
   "id": "5afe79c8-9a3b-4e09-9f81-8c2c293a37bf",
   "metadata": {},
   "outputs": [
    {
     "data": {
      "text/plain": [
       "1"
      ]
     },
     "execution_count": 1,
     "metadata": {},
     "output_type": "execute_result"
    }
   ],
   "source": [
    "3//2"
   ]
  },
  {
   "cell_type": "code",
   "execution_count": null,
   "id": "08e47452-e0c7-4883-bea9-24df42d4f5bb",
   "metadata": {},
   "outputs": [],
   "source": []
  },
  {
   "cell_type": "code",
   "execution_count": 14,
   "id": "8cfdf1f4-6a4b-4201-a160-044d5ae85d31",
   "metadata": {},
   "outputs": [],
   "source": [
    "def fun(a):\n",
    "    return None or None"
   ]
  },
  {
   "cell_type": "code",
   "execution_count": 15,
   "id": "378eae04-f7b2-4e97-bc25-f5478eee35cd",
   "metadata": {},
   "outputs": [],
   "source": [
    "fun(0)"
   ]
  },
  {
   "cell_type": "code",
   "execution_count": 58,
   "id": "5db43221-c329-4191-8abf-c681515101d8",
   "metadata": {},
   "outputs": [],
   "source": [
    "def fun(L):\n",
    "    \n",
    "    left=L[0:len(L)//2]\n",
    "    right=L[len(L)//2:len(L)]\n",
    "    \n",
    "    \n",
    "    if len(left)==1 and len(right)==1:\n",
    "        if left[0] != right[0]:\n",
    "            return None\n",
    "        else:\n",
    "            return left   \n",
    "    if len(left)==1:\n",
    "        return left\n",
    "    elif len(right)==1:\n",
    "        return right\n",
    "    return fun(left) or fun(right)"
   ]
  },
  {
   "cell_type": "code",
   "execution_count": 61,
   "id": "48141836-e4e0-4c64-9ce8-dc80d861970d",
   "metadata": {},
   "outputs": [
    {
     "data": {
      "text/plain": [
       "['John']"
      ]
     },
     "execution_count": 61,
     "metadata": {},
     "output_type": "execute_result"
    }
   ],
   "source": [
    "fun(  ['John','Mary','John'])"
   ]
  },
  {
   "cell_type": "code",
   "execution_count": 64,
   "id": "8b166a1e-7ffe-4ae8-8dea-d34fc9cfc47a",
   "metadata": {},
   "outputs": [
    {
     "data": {
      "text/plain": [
       "3.321928094887362"
      ]
     },
     "execution_count": 64,
     "metadata": {},
     "output_type": "execute_result"
    }
   ],
   "source": [
    "import math\n",
    "math.log2(10)"
   ]
  },
  {
   "cell_type": "code",
   "execution_count": null,
   "id": "cedcb9e3-c676-422a-8bea-130a84342167",
   "metadata": {},
   "outputs": [],
   "source": []
  }
 ],
 "metadata": {
  "kernelspec": {
   "display_name": "Python 3",
   "language": "python",
   "name": "python3"
  },
  "language_info": {
   "codemirror_mode": {
    "name": "ipython",
    "version": 3
   },
   "file_extension": ".py",
   "mimetype": "text/x-python",
   "name": "python",
   "nbconvert_exporter": "python",
   "pygments_lexer": "ipython3",
   "version": "3.8.8"
  }
 },
 "nbformat": 4,
 "nbformat_minor": 5
}
