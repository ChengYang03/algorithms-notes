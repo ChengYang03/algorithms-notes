{
 "cells": [
  {
   "cell_type": "markdown",
   "id": "f015bd4e-e99a-480d-8555-81eebefb15f0",
   "metadata": {},
   "source": [
    "# Upper and Lower Bounds of Running Time"
   ]
  },
  {
   "cell_type": "code",
   "execution_count": null,
   "id": "5d0ca14d-d2c5-4d68-bd50-8a1c61a6cf66",
   "metadata": {},
   "outputs": [],
   "source": [
    "def prog1(L):\n",
    "    s=0\n",
    "    for i in range(len(L)):\n",
    "        s=L[i]*L[i]+1\n",
    "        print(i,y)\n",
    "        s=L[i]**2 -10*l3n(L)\n",
    "    s=s*5+10\n",
    "    s=s*s/7\n",
    "    return s\n",
    "    "
   ]
  },
  {
   "cell_type": "markdown",
   "id": "bbfb1c0e-d9a0-49a3-b97c-722d7ba1c040",
   "metadata": {},
   "source": [
    "what is the running time of prog1?\n",
    "+ $O(n)$ -True\n",
    "+ $O(n^2)$ -True"
   ]
  },
  {
   "cell_type": "markdown",
   "id": "b175dfaa-df81-4bac-8186-e8b82f4e0464",
   "metadata": {},
   "source": [
    "How do we say things?"
   ]
  },
  {
   "cell_type": "markdown",
   "id": "a1dae87f-809c-48c8-a259-ae5ca7086a49",
   "metadata": {},
   "source": [
    "\n",
    "A correct way to describe the running time $T(n)$ of prog1:\n",
    "+ $T(n)= a*n +b$\n",
    "+ $T(n)$ is in $O(n)$\n",
    "+ $T(n)\\in O(n) $\n",
    "\n"
   ]
  },
  {
   "cell_type": "markdown",
   "id": "2b8b1c89-7a19-4b22-b7f5-c88d40113e78",
   "metadata": {},
   "source": [
    "Here's an incorrect way : $T(n) $ is $O(n)$"
   ]
  },
  {
   "cell_type": "markdown",
   "id": "1afa7c65-b2dc-41eb-8b31-29c0ca84343c",
   "metadata": {},
   "source": [
    "### example"
   ]
  },
  {
   "cell_type": "code",
   "execution_count": 5,
   "id": "32279d7a-6cf5-4b6b-8a72-388071bae788",
   "metadata": {},
   "outputs": [],
   "source": [
    "def prog2(L):\n",
    "    for i in range(len(L)):\n",
    "        for j in range(0,len(L)):\n",
    "            print('i={},j={}'.format(i,j))"
   ]
  },
  {
   "cell_type": "code",
   "execution_count": 6,
   "id": "4c76fad6-2168-4139-8902-0bdc96c52c34",
   "metadata": {},
   "outputs": [
    {
     "name": "stdout",
     "output_type": "stream",
     "text": [
      "i=0,j=0\n",
      "i=0,j=1\n",
      "i=0,j=2\n",
      "i=1,j=0\n",
      "i=1,j=1\n",
      "i=1,j=2\n",
      "i=2,j=0\n",
      "i=2,j=1\n",
      "i=2,j=2\n"
     ]
    }
   ],
   "source": [
    "prog2(['a','b','c'])"
   ]
  },
  {
   "cell_type": "markdown",
   "id": "c7959741-45bc-4675-bd1f-8a0b2646a10b",
   "metadata": {},
   "source": [
    "$T(n)=a*n^2 +b \\in O(n^2) $ "
   ]
  },
  {
   "cell_type": "code",
   "execution_count": 8,
   "id": "abeccc83-b67f-4d87-ae5f-908f93e38bb5",
   "metadata": {},
   "outputs": [],
   "source": [
    "def prog3(L):\n",
    "    for i in range(len(L)):\n",
    "        for j in range(i+1,len(L)):\n",
    "            print('i={},j={}'.format(i,j))"
   ]
  },
  {
   "cell_type": "code",
   "execution_count": 9,
   "id": "87d15a17-8002-4494-ab2e-ec9144bf38a9",
   "metadata": {},
   "outputs": [
    {
     "name": "stdout",
     "output_type": "stream",
     "text": [
      "i=0,j=1\n",
      "i=0,j=2\n",
      "i=1,j=2\n"
     ]
    }
   ],
   "source": [
    "prog3(['a','b','c'])"
   ]
  },
  {
   "cell_type": "markdown",
   "id": "b2d5758e-d650-43ad-9de4-4a2845095621",
   "metadata": {},
   "source": [
    "prog3 take fewer step than prog2 referring to line3\n",
    "on line3, prog3 takes at most n step, $T(n)<= a*n^2+b$\n",
    "on line4, pro2 takes n step, $T(n)=a*n^2 +b$"
   ]
  },
  {
   "cell_type": "code",
   "execution_count": null,
   "id": "d6754128-9bac-4edb-ba48-d9c35f3934ce",
   "metadata": {},
   "outputs": [],
   "source": []
  }
 ],
 "metadata": {
  "kernelspec": {
   "display_name": "Python 3",
   "language": "python",
   "name": "python3"
  },
  "language_info": {
   "codemirror_mode": {
    "name": "ipython",
    "version": 3
   },
   "file_extension": ".py",
   "mimetype": "text/x-python",
   "name": "python",
   "nbconvert_exporter": "python",
   "pygments_lexer": "ipython3",
   "version": "3.8.8"
  }
 },
 "nbformat": 4,
 "nbformat_minor": 5
}
