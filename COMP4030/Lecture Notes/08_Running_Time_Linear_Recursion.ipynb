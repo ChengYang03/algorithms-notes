{
 "cells": [
  {
   "cell_type": "markdown",
   "id": "15361618-1ea1-4ad4-9df6-b153be60b322",
   "metadata": {},
   "source": [
    "## Running Time Analysis of Linearly Recursive Programs"
   ]
  },
  {
   "cell_type": "markdown",
   "id": "5a9bb802-83ef-45a1-9364-406a9483a1f5",
   "metadata": {},
   "source": [
    "Key ideas in determining running time functions of recursive programs:\n",
    "\n",
    "* Use the running time function T to indicate the running time of recursive calls.\n",
    "\n",
    "* The parameter of T is the input size of the recursive call.\n",
    "\n",
    "* Input size should be reduced.\n",
    "\n",
    "* Use substitution or the Master's theorem to figure the exact equation."
   ]
  },
  {
   "cell_type": "markdown",
   "id": "c9b5b9f4-0de4-439d-9038-6def3cea90f2",
   "metadata": {},
   "source": [
    "### Key ideas in thinking about recursive designs\n",
    "\n",
    "* Understand the concept of a subproblem.\n",
    "\n",
    "* See subproblems in a problem.\n",
    "\n",
    "* Try to solve a problem using solutions of subproblems.\n",
    "\n",
    "* Create subproblems: problem reduction\n",
    "\n",
    "* Solve the problem directly when it's not possible to create subproblems.\n"
   ]
  },
  {
   "cell_type": "markdown",
   "id": "83e056f6-bdb9-41e6-8f65-e889dfe2ff50",
   "metadata": {},
   "source": [
    "### Problem Reduction\n",
    "\n",
    "Compare how to create subproblem using iterative versus recursive techniques.\n",
    "\n",
    "The problem: is_palindrome -- True if input is a palindrome; False if not.\n",
    "\n",
    "Solution design:\n",
    "+ compare first and last items.\n",
    "+ if they are equal, check the middle part."
   ]
  },
  {
   "cell_type": "code",
   "execution_count": 1,
   "id": "576ee366-738a-4e29-ac6a-5e87a69d69f4",
   "metadata": {},
   "outputs": [],
   "source": [
    "## Recursive design\n",
    "\n",
    "def is_palindrome(L):\n",
    "    if len(L)<=1:\n",
    "        return True\n",
    "    return L[0]==L[-1] and is_palindrome(L[1:-1])\n",
    "\n"
   ]
  },
  {
   "cell_type": "markdown",
   "id": "1c43d597-a62d-4399-af37-c51b41cbdbb1",
   "metadata": {},
   "source": [
    "We reduced a problem of size n, to a subproblem of size n-2"
   ]
  },
  {
   "cell_type": "code",
   "execution_count": 2,
   "id": "24f43970-eda3-4635-9f7b-eabdb23cee08",
   "metadata": {},
   "outputs": [],
   "source": [
    "## Iterative design\n",
    "\n",
    "def is_palindrome(L):\n",
    "    first =0\n",
    "    last = len(L)-1\n",
    "    while first < last:\n",
    "        if L[first]!=L[last]:\n",
    "            return False\n",
    "        else:\n",
    "            first +=1\n",
    "            last  -=1\n",
    "    return True\n"
   ]
  },
  {
   "cell_type": "markdown",
   "id": "1443ac6b-ac34-4d29-81dc-ca74bc9f4a4b",
   "metadata": {},
   "source": [
    "$T(n) = a +T(n-2)$"
   ]
  },
  {
   "cell_type": "markdown",
   "id": "1c6ab635-c3c9-46ff-ad77-838db5d87535",
   "metadata": {},
   "source": [
    "repeated subsititutiom : we repeately subsitute T on the right hand side of the equalation with T on the left side with approproate paramemters"
   ]
  },
  {
   "cell_type": "markdown",
   "id": "bd5e8e13-bfc6-4578-a6f4-a8d65ff337ce",
   "metadata": {},
   "source": [
    "$T(n) = a +T(n-2)$ "
   ]
  },
  {
   "cell_type": "markdown",
   "id": "f4b84d23-4ecb-4033-abde-6b15675f152e",
   "metadata": {},
   "source": [
    "$T(n) = a +???$ "
   ]
  },
  {
   "cell_type": "markdown",
   "id": "7853c840-bdb6-4e0f-bf84-16a089d63424",
   "metadata": {},
   "source": [
    "n is a varible, it canbe anything. it can be n-2\n"
   ]
  },
  {
   "cell_type": "markdown",
   "id": "d31a702d-bb3e-4366-84df-25ca2e8902a8",
   "metadata": {},
   "source": [
    "$T(n-2)= a +T(n-2-2) = a +T(n-4)$"
   ]
  },
  {
   "cell_type": "markdown",
   "id": "762e79c2-129f-49ca-9212-c06d3546106c",
   "metadata": {},
   "source": [
    "$T(n) = a +T(n-2)$\n",
    "\n",
    "$T(n) = 2a +T(n-4)$\n"
   ]
  },
  {
   "cell_type": "markdown",
   "id": "f22b3fa9-4e43-4bf8-b816-fdc197ff8e17",
   "metadata": {},
   "source": [
    "$T(n) =n +T(n-1)$\n",
    "$T(n-1)=(n-1)+T(n-2)$\n",
    "$T(n)=2n-1+T(n-2)$\n",
    "$T(n-2)=n-2+T(n-3)$\n",
    "$T(n)=3n-3+T(n-3)$\n",
    "$T(n)=3n-3+T(n-3)$\n",
    "$T(n) = kn +T(n-k) $\n"
   ]
  },
  {
   "cell_type": "code",
   "execution_count": null,
   "id": "f763d78d-97ff-4c55-ae84-4386713a172c",
   "metadata": {},
   "outputs": [],
   "source": []
  }
 ],
 "metadata": {
  "kernelspec": {
   "display_name": "Python 3",
   "language": "python",
   "name": "python3"
  },
  "language_info": {
   "codemirror_mode": {
    "name": "ipython",
    "version": 3
   },
   "file_extension": ".py",
   "mimetype": "text/x-python",
   "name": "python",
   "nbconvert_exporter": "python",
   "pygments_lexer": "ipython3",
   "version": "3.8.8"
  }
 },
 "nbformat": 4,
 "nbformat_minor": 5
}
