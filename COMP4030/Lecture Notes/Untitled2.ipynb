{
 "cells": [
  {
   "cell_type": "markdown",
   "id": "6a0947ac-a6a9-412c-a391-4f4740f3cbfb",
   "metadata": {},
   "source": [
    "$T(n)=n^2+4T(n / 2)$"
   ]
  },
  {
   "cell_type": "code",
   "execution_count": 9,
   "id": "f0a4f612-6e92-48ca-9a20-b4d141941038",
   "metadata": {},
   "outputs": [
    {
     "name": "stdout",
     "output_type": "stream",
     "text": [
      "Following is the Breadth-First Search\n",
      "5 3 7 2 4 8 "
     ]
    }
   ],
   "source": [
    "graph = {\n",
    "  '5' : ['3','7'],\n",
    "  '3' : ['2', '4'],\n",
    "  '7' : ['8'],\n",
    "  '2' : [],\n",
    "  '4' : ['8'],\n",
    "  '8' : []\n",
    "}\n",
    "visited = [] # List for visited nodes.\n",
    "queue = []     #Initialize a queue\n",
    "\n",
    "def bfs(visited, graph, node): #function for BFS\n",
    "    visited.append(node)\n",
    "    queue.append(node)\n",
    "\n",
    "    while queue:          # Creating loop to visit each node\n",
    "        m = queue.pop(0) \n",
    "        print (m, end = \" \") \n",
    "\n",
    "        for neighbour in graph[m]:\n",
    "            if neighbour not in visited:\n",
    "                visited.append(neighbour)\n",
    "                queue.append(neighbour)\n",
    "print(\"Following is the Breadth-First Search\")\n",
    "bfs(visited, graph, '5')    # function calling\n",
    " "
   ]
  },
  {
   "cell_type": "code",
   "execution_count": 1,
   "id": "45950d6a-2d6a-43ce-9a41-5e7c1543ddcb",
   "metadata": {},
   "outputs": [],
   "source": [
    "d=2"
   ]
  },
  {
   "cell_type": "markdown",
   "id": "b589ed0c-ea06-41fd-9192-02b675a8784c",
   "metadata": {},
   "source": [
    "$log_2(4)=2$"
   ]
  },
  {
   "cell_type": "markdown",
   "id": "19dc6bbd-7ed3-492b-90c2-310ec80d3d79",
   "metadata": {},
   "source": [
    "$T(n) \\in \\Theta(n^2 \\log n)$"
   ]
  },
  {
   "cell_type": "markdown",
   "id": "633a95fc-4cf8-44bd-afd4-b5ce47178922",
   "metadata": {},
   "source": [
    "d=3\n",
    "$log_2(9)$\n",
    "$T(n)\\in\\Theta(n^{\\log_2(9)})$"
   ]
  },
  {
   "cell_type": "code",
   "execution_count": 7,
   "id": "27bb90e4-fa8d-4de2-9b50-f9ec1090cca0",
   "metadata": {},
   "outputs": [
    {
     "data": {
      "text/plain": [
       "7.022367813028454"
      ]
     },
     "execution_count": 7,
     "metadata": {},
     "output_type": "execute_result"
    }
   ],
   "source": [
    "import math\n",
    "math.log2(130)"
   ]
  },
  {
   "cell_type": "markdown",
   "id": "9fb2fc6e-c6c2-4917-83cf-725cd96518c7",
   "metadata": {},
   "source": [
    "d=5\n",
    "\n",
    "$log_2(130)$\n",
    "\n",
    "$T(n)\\in\\Theta(n^{\\log_2(130)})$"
   ]
  },
  {
   "cell_type": "markdown",
   "id": "de786b17-ee43-4a91-ba94-0cb7d2f9393b",
   "metadata": {},
   "source": [
    "max sublist\n"
   ]
  },
  {
   "cell_type": "code",
   "execution_count": null,
   "id": "96d90518-5b7d-428c-9861-cd9f059c5832",
   "metadata": {},
   "outputs": [],
   "source": [
    "def max_sub_1(L):\n",
    "    max_sum=L[0]\n",
    "    \n",
    "    for i in range(len(L)):\n",
    "        for j in range(i,len(L)):\n",
    "            sum_ij= sum(L[1:j+1])\n",
    "            if max_sum<sum_ij:\n",
    "                max_sum=sum_ij\n",
    "    return max_sum\n",
    "    "
   ]
  },
  {
   "cell_type": "code",
   "execution_count": null,
   "id": "b56f1d6c-3ab0-4d5d-b323-307bceb51c2b",
   "metadata": {},
   "outputs": [],
   "source": [
    "def max_sub_recurive(L):\n",
    "    if len(L)==1:\n",
    "        return L[0]\n",
    "    left=L[0:len(L)//2]\n",
    "    right=L[len(L)//2,len(L)]\n",
    "    max_left=max_sub_recursive(left)\n",
    "    max_right=max_sub_recursive(right)\n",
    "    third_case=max_spannign(L)\n",
    "    return max(max_left,max_right，third_case)"
   ]
  },
  {
   "cell_type": "markdown",
   "id": "e9773eee-5bc3-4d34-b3ed-a2c0d54ea0ba",
   "metadata": {},
   "source": [
    "### Breath first search"
   ]
  },
  {
   "cell_type": "code",
   "execution_count": 12,
   "id": "cc31a3b0-2aaf-466a-b203-eacde5997789",
   "metadata": {},
   "outputs": [
    {
     "name": "stdout",
     "output_type": "stream",
     "text": [
      "Following is the Breadth-First Search\n",
      "5\n",
      "3\n",
      "7\n",
      "2\n",
      "4\n",
      "8\n"
     ]
    }
   ],
   "source": [
    "graph = {\n",
    "  '5' : ['3','7'],\n",
    "  '3' : ['2', '4'],\n",
    "  '7' : ['8'],\n",
    "  '2' : [],\n",
    "  '4' : ['8'],\n",
    "  '8' : []\n",
    "}\n",
    "\n",
    "visited = [] # List for visited nodes.\n",
    "queue = []     #Initialize a queue\n",
    "\n",
    "def bfs(visited, graph, node): #function for BFS\n",
    "    visited.append(node)\n",
    "    queue.append(node)\n",
    "\n",
    "    while queue:          # Creating loop to visit each node\n",
    "        m = queue.pop(0) \n",
    "        print (m) \n",
    "\n",
    "        for neighbour in graph[m]:\n",
    "            if neighbour not in visited:\n",
    "                visited.append(neighbour)\n",
    "                queue.append(neighbour)\n",
    "print(\"Following is the Breadth-First Search\")\n",
    "bfs(visited, graph, '5')    # function calling\n",
    " "
   ]
  },
  {
   "cell_type": "markdown",
   "id": "71faafdc-028e-4825-a56a-a5872d70aab4",
   "metadata": {},
   "source": [
    "### Depth First Search"
   ]
  },
  {
   "cell_type": "code",
   "execution_count": 4,
   "id": "223eea89-004a-44b6-95c1-78286974356b",
   "metadata": {},
   "outputs": [
    {
     "name": "stdout",
     "output_type": "stream",
     "text": [
      "Following is the Depth-First Search\n",
      "5\n",
      "3\n",
      "2\n",
      "4\n",
      "8\n",
      "7\n"
     ]
    }
   ],
   "source": [
    "graph = {\n",
    "  '5' : ['3','7'],\n",
    "  '3' : ['2', '4'],\n",
    "  '7' : ['8'],\n",
    "  '2' : [],\n",
    "  '4' : ['8'],\n",
    "  '8' : []\n",
    "}\n",
    "\n",
    "visited = set() # Set to keep track of visited nodes of graph.\n",
    "\n",
    "def dfs(visited, graph, node):  #function for dfs \n",
    "    if node not in visited:\n",
    "        print (node)\n",
    "        visited.add(node)\n",
    "        for neighbour in graph[node]:\n",
    "            dfs(visited, graph, neighbour)\n",
    "\n",
    "# Driver Code\n",
    "print(\"Following is the Depth-First Search\")\n",
    "dfs(visited, graph, '5')"
   ]
  }
 ],
 "metadata": {
  "kernelspec": {
   "display_name": "Python 3",
   "language": "python",
   "name": "python3"
  },
  "language_info": {
   "codemirror_mode": {
    "name": "ipython",
    "version": 3
   },
   "file_extension": ".py",
   "mimetype": "text/x-python",
   "name": "python",
   "nbconvert_exporter": "python",
   "pygments_lexer": "ipython3",
   "version": "3.8.8"
  }
 },
 "nbformat": 4,
 "nbformat_minor": 5
}
