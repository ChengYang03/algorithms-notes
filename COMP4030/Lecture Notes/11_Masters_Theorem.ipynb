{
 "cells": [
  {
   "cell_type": "markdown",
   "id": "fb82b546-5c32-4e81-ac68-e41c7ae3a685",
   "metadata": {},
   "source": [
    "# Master's Theorem\n",
    "\n",
    "$T(n) = c \\cdot n^d + a \\cdot T({n \\over b})$\n",
    "\n",
    "$c$ is insequential in determining the complexity of $T$.\n",
    "\n",
    "Problems:\n",
    "* Merging sorted lists\n",
    "* Merge sort\n",
    "* Find max sublist"
   ]
  },
  {
   "cell_type": "markdown",
   "id": "c985da94",
   "metadata": {},
   "source": [
    "### Overview of what we're doing today\n",
    "\n",
    "1. Top-level recursive design of merge_sort\n",
    "2. Delegate a task to merging\n",
    "3. Recursive design of merging\n",
    "4. Analysis of running time of merging, merge_sort\n",
    "5. Derive the General Running Time Equation for recursive designs.\n",
    "5. Complexity analysis of the General Equation\n",
    "6. The Master's Theorem"
   ]
  },
  {
   "cell_type": "markdown",
   "id": "430350ab",
   "metadata": {},
   "source": [
    "### Top-level design of merge sort"
   ]
  },
  {
   "cell_type": "markdown",
   "id": "10c63157",
   "metadata": {},
   "source": [
    "Input: L, e.g. [10, 5, 20, 1, 2, 38, 2, 7]\n",
    "\n",
    "Output: sorted L, [1, 2, 2, 5, 7, 10, 20, 38]\n",
    "\n",
    "Two popular recursive designs:\n",
    "\n",
    "+ Decrease by 1: input size n --> input size n-1.\n",
    "+ Divide in half: input size n --> input size n//2\n",
    "\n",
    "\n",
    "Strategy:\n",
    "\n",
    "+ break it down in halves and use the same procedure to sort the halves.\n",
    "\n",
    "L = [10, 5, 20, 1, 2, 38, 2, 7]\n",
    "\n",
    "left = [10, 5, 20, 1]\n",
    "\n",
    "right = [2, 38, 2, 7]\n",
    "\n",
    "Use **the same procedure** to sort left and right\n",
    "\n",
    "sorted_left = [1, 5, 10, 20]\n",
    "\n",
    "sorted_right = [2, 2, 7, 38]\n",
    "\n",
    "Note: do not go into \"the same procedure\" to figure out how that works. Focuse on the output.\n",
    "\n",
    "If we can merge these two sorted lists correctly to produce this: [1, 2, 2, 5, 7, 10, 20, 38], then we are done."
   ]
  },
  {
   "cell_type": "code",
   "execution_count": null,
   "id": "6865ec87",
   "metadata": {},
   "outputs": [],
   "source": []
  },
  {
   "cell_type": "code",
   "execution_count": 1,
   "id": "48ecf626",
   "metadata": {},
   "outputs": [],
   "source": [
    "def merge_sort(L):\n",
    "    if len(L) <= 1:\n",
    "        return L\n",
    "    left = L[0: len(L)//2]\n",
    "    right = L[len(L)//2 : len(L)]\n",
    "    sorted_left = merge_sort(left)\n",
    "    sorted_right = merge_sort(right)\n",
    "    return merge(sorted_left, sorted_right)\n",
    "\n",
    "def merge(A, B):\n",
    "    # will implement later\n",
    "    pass"
   ]
  },
  {
   "cell_type": "markdown",
   "id": "2b5f1eef",
   "metadata": {},
   "source": [
    "Determine the running time equation of merge_sort\n",
    "\n",
    "T(n) = c*n + M(n) + 2*T(n/2)\n",
    "\n",
    "Line 4: c1*n/2 steps\n",
    "\n",
    "Line 5: c2*n/2 steps\n",
    "\n",
    "T(n) is the running time of merge_sort for lists with n numbers.\n",
    "\n",
    "If lists have n/2 numbers, the running time is T(n/2).\n",
    "\n",
    "M(n) is the running time of *merge* (line 8)\n"
   ]
  },
  {
   "cell_type": "code",
   "execution_count": 6,
   "id": "757209c3",
   "metadata": {},
   "outputs": [],
   "source": [
    "#\n",
    "# Input: 2 sorted lists A and B\n",
    "# Output: a sorted list of numbers in A and B\n",
    "#\n",
    "def merge(A, B):\n",
    "    # in case A or B does not have any item\n",
    "    if A==[]:\n",
    "        return B\n",
    "    if B==[]:\n",
    "        return A\n",
    "    \n",
    "    # this assumes that A and B have at least 1 item.\n",
    "    if A[0] < B[0]:\n",
    "        return [A[0]] + merge(A[1:], B)\n",
    "    else:\n",
    "        return [B[0]] + merge(A, B[1: ])\n",
    "\n",
    "def merge_sort(L):\n",
    "    if len(L) <= 1:\n",
    "        return L\n",
    "    left = L[0: len(L)//2]\n",
    "    right = L[len(L)//2 : len(L)]\n",
    "    sorted_left = merge_sort(left)\n",
    "    sorted_right = merge_sort(right)\n",
    "    return merge(sorted_left, sorted_right)\n"
   ]
  },
  {
   "cell_type": "code",
   "execution_count": 5,
   "id": "73c91328",
   "metadata": {},
   "outputs": [
    {
     "data": {
      "text/plain": [
       "[1, 2, 2, 5, 7, 10, 20, 38]"
      ]
     },
     "execution_count": 5,
     "metadata": {},
     "output_type": "execute_result"
    }
   ],
   "source": [
    "A = [1, 5, 10, 20]\n",
    "B = [2, 2, 7, 38]\n",
    "merge(A,B)"
   ]
  },
  {
   "cell_type": "code",
   "execution_count": 7,
   "id": "7fa30d8b",
   "metadata": {},
   "outputs": [
    {
     "data": {
      "text/plain": [
       "[1, 2, 2, 5, 7, 10, 20, 38]"
      ]
     },
     "execution_count": 7,
     "metadata": {},
     "output_type": "execute_result"
    }
   ],
   "source": [
    "L = [10, 5, 20, 1, 2, 38, 2, 7]\n",
    "merge_sort(L)"
   ]
  },
  {
   "cell_type": "markdown",
   "id": "f951d2ee",
   "metadata": {},
   "source": [
    "```\n",
    "A = [1, 5, 10, 20]\n",
    "B = [2, 2, 7, 38]\n",
    "\n",
    "This is a reduce by 1 recursive strategy.\n",
    "\n",
    "Create a new sorted list by going through the two sorted lists.\n",
    "\n",
    "If A[0] < B[0]:\n",
    "    first = A[0]\n",
    "    # now A = [5, 10, 20] and B = [2, 2, 7, 38]\n",
    "    # If we can merge these two sorted lists, then we're good.\n",
    "   \n",
    "    # Why? the merge will be [2, 2, 5, 7, 10, 20, 38]\n",
    "    # The output is [A[0]] + [2, 2, 5, 7, 10, 20, 38]\n",
    "    \n",
    "    # How do we merge  [5, 10, 20] and [2, 2, 7, 38]?\n",
    "    # by \"doing the same thing\" or \"using the same procedure\" \n",
    "    # in Python, this means making a recursive call.\n",
    "\n",
    "Else:\n",
    "\n",
    "```"
   ]
  },
  {
   "cell_type": "markdown",
   "id": "700c8a37",
   "metadata": {},
   "source": [
    "For merge_sort:\n",
    "\n",
    "T(n) = cn + M(n) + 2T(n/2)\n",
    "\n",
    "For merge:\n",
    "\n",
    "n - the numbers of items in A and B\n",
    "\n",
    "M(n) = a + M(n-1)\n",
    "\n",
    "M(n) = a + a + M(n-2) = 2a + M(n-2)\n",
    "\n",
    "M(n) = 2a + a + M(n-3) = 3a + M(n-3)\n",
    "\n",
    "After doing this k times: M(n) = k*a - M(n-k)\n",
    "\n",
    "After doing this n times: M(n) = n*a - M(0)\n",
    "\n",
    "\n",
    "Substitutions:\n",
    "\n",
    "M(n-1) = c + M(n-2)\n",
    "\n",
    "M(n-2) = c + M(n-3)"
   ]
  },
  {
   "cell_type": "code",
   "execution_count": 8,
   "id": "edd8b4e2",
   "metadata": {},
   "outputs": [],
   "source": [
    "def merge(A, B):\n",
    "    if A==[]:\n",
    "        return B\n",
    "    if B==[]:\n",
    "        return A\n",
    "    if A[0] < B[0]:\n",
    "        return [A[0]] + merge(A[1:], B)\n",
    "    else:\n",
    "        return [B[0]] + merge(A, B[1: ])"
   ]
  },
  {
   "cell_type": "markdown",
   "id": "5caa274f",
   "metadata": {},
   "source": [
    "For merge_sort:   T(n) = cn + M(n) + 2T(n/2)\n",
    "\n",
    "M(n) = a*n + M(0) = a*n + b\n",
    "\n",
    "T(n) = c*n + a*n + b + 2T(n/2)\n",
    "\n",
    "T(n) = (a+c)*n + b + 2T(n/2)"
   ]
  },
  {
   "cell_type": "markdown",
   "id": "c3904933",
   "metadata": {},
   "source": [
    "Simplify T(n):\n",
    "\n",
    "1. Drop b\n",
    "2. Sum up a+c=e\n",
    "\n",
    "T(n) = e*n + 2T(n/2)"
   ]
  },
  {
   "cell_type": "markdown",
   "id": "209a8a39",
   "metadata": {},
   "source": [
    "```\n",
    "T(n) = e*n + 2T(n/2)\n",
    "\n",
    "T(n) = e*n + 2*( en/2 + 2T(n/4) ) = e*n + e*n + 2^2 * T(n/2^2)\n",
    "\n",
    "T(n) = 2*e*n + 2^2 * T(n/2^2) = 2en + 2^2 * ( e*n/2^2 + 2*T(n/2^3) )\n",
    "\n",
    "T(n) = 2en + en + 2^3 * T(n/2^3) = 3en + 2^3 * T(n/2^3)\n",
    "\n",
    "After k steps:\n",
    "\n",
    "T(n) = k*e*n + 2^k * T(n/2^k)\n",
    "\n",
    "When n/2^k = 1, we stop.\n",
    "\n",
    "When n/2^k = 1, k=log_2(n)  or 2^k = n\n",
    "\n",
    "T(n) = e*n*log(n) + n * T(1) .  THIS IS IN THETA(n log n)\n",
    "\n",
    "\n",
    "\n",
    "Scratch space:\n",
    "\n",
    "T(n/2) = en/2 + 2T(n/4)\n",
    "\n",
    "T(n/2^2) = e*n/2^2 + 2T(n/2^3)\n",
    "```"
   ]
  },
  {
   "cell_type": "markdown",
   "id": "440d1a4c",
   "metadata": {},
   "source": [
    "If $T(n) = e*n + 2T(n/2), T(n) \\in \\Theta(n \\log n)$"
   ]
  },
  {
   "cell_type": "markdown",
   "id": "d020a6fb",
   "metadata": {},
   "source": [
    "log2 n = (1/log10 2) * log(n) "
   ]
  },
  {
   "cell_type": "markdown",
   "id": "4630ddc3",
   "metadata": {},
   "source": [
    "### The General Equation\n",
    "\n",
    "For many recursive designs, the running time equation has this form:\n",
    "\n",
    "$$T(n) = c*n^d + a \\cdot T({n \\over b})$$\n",
    "\n",
    "We can drop $c$ because it is inconsequential to the complexity ($\\Theta$).\n",
    "\n",
    "In slightly more concise form:\n",
    "\n",
    "$$T(n) = n^d + a \\cdot T({n \\over b})$$"
   ]
  },
  {
   "cell_type": "markdown",
   "id": "3deeb7ae",
   "metadata": {},
   "source": [
    "### Master's Theorem\n",
    "\n",
    "$$T(n) = n^d + a \\cdot T({n \\over b})$$\n",
    "\n",
    "The complexity of $T(n)$ depends on the values of $a, b$, and $d$.\n"
   ]
  },
  {
   "cell_type": "markdown",
   "id": "0d11ba9a",
   "metadata": {},
   "source": [
    "$$T(n) = n^d + a \\cdot T({n \\over b})$$\n",
    "\n",
    "There are 2 cases to consider:\n",
    "\n",
    "1. If $d \\neq \\log_b a$, then $T(n) \\in \\Theta(n^{\\max(d, \\log_b a)}) $\n",
    "\n",
    "2. If $d = \\log_b a$, then $T(n) \\in \\Theta(n^d \\log n)$"
   ]
  },
  {
   "cell_type": "markdown",
   "id": "b026abf6",
   "metadata": {},
   "source": [
    "### Examples"
   ]
  },
  {
   "cell_type": "markdown",
   "id": "e2da234f",
   "metadata": {},
   "source": [
    "T(n) = n + 2T(n/2)      \n",
    "\n",
    "d = 1, a = 2, b = 2. We compare d=1 and log2(2) = 1\n",
    "\n",
    "$T(n) \\in \\Theta(n \\log n)$\n"
   ]
  },
  {
   "cell_type": "markdown",
   "id": "d8f926cf",
   "metadata": {},
   "source": [
    "---\n",
    "\n",
    "T(n) = n^2 + 2T(n/2)\n",
    "\n",
    "We compare d=2 and log2(2) = 1\n",
    "\n",
    "$T(n) \\in \\Theta(n^2)$"
   ]
  },
  {
   "cell_type": "markdown",
   "id": "5899fd63",
   "metadata": {},
   "source": [
    "---\n",
    "\n",
    "T(n) = n^3 + 10T(n/2)\n",
    "\n",
    "We compare d=3 and log2(10).  d=3 < log2(10)\n",
    "\n",
    "log2(8)\n",
    "\n",
    "$T(n) \\in \\Theta(n^{\\log_2 10}) = \\Theta(n^{3.32})$"
   ]
  },
  {
   "cell_type": "code",
   "execution_count": 13,
   "id": "74f1aa90",
   "metadata": {},
   "outputs": [
    {
     "data": {
      "text/plain": [
       "3.321928094887362"
      ]
     },
     "execution_count": 13,
     "metadata": {},
     "output_type": "execute_result"
    }
   ],
   "source": [
    "import math\n",
    "math.log2(10)"
   ]
  },
  {
   "cell_type": "markdown",
   "id": "ee5df540",
   "metadata": {},
   "source": [
    "----\n",
    "\n",
    "T(n) = n^4 + 30*T(n/3)\n",
    "\n",
    "We compare d=4 > log3(30)\n",
    "\n",
    "d = 4 = log3(3^4) = log3(81) > log3(30)\n",
    "\n",
    "$T(n) \\in \\Theta(n^4)$"
   ]
  },
  {
   "cell_type": "code",
   "execution_count": 14,
   "id": "b40382c6",
   "metadata": {},
   "outputs": [
    {
     "data": {
      "text/plain": [
       "81"
      ]
     },
     "execution_count": 14,
     "metadata": {},
     "output_type": "execute_result"
    }
   ],
   "source": [
    "3**4"
   ]
  },
  {
   "cell_type": "markdown",
   "id": "fbbdb42c",
   "metadata": {},
   "source": [
    "In summary,\n",
    "\n",
    "$$T(n) = n^d + a \\cdot T({n \\over b})$$\n",
    "\n",
    "There are 2 cases to consider:\n",
    "\n",
    "1. If $d \\neq \\log_b a$, then $T(n) \\in \\Theta(n^{\\max(d, \\log_b a)}) $\n",
    "\n",
    "2. If $d = \\log_b a$, then $T(n) \\in \\Theta(n^d \\log n)$"
   ]
  },
  {
   "cell_type": "markdown",
   "id": "84b566a5-4e09-455b-bf22-1be21cd2dc87",
   "metadata": {},
   "source": [
    "### Derive the Master's thorem "
   ]
  },
  {
   "cell_type": "markdown",
   "id": "924a70c1-926e-4085-bb81-1c10ee9b641f",
   "metadata": {},
   "source": [
    "we'll use reoeated substitutions to derive the Master's theorem.\n",
    "\n",
    "$T(n)=n^d +a*T(n/b)$\n",
    "\n",
    "\n",
    "$T(n)=n^d+a*(n/b)^d+a*T(n/b^2)$\n",
    "\n",
    "$T(n)=n^d +a(n/b)^d+a^2*((n/b^2)^d+a*T(n/b^3))$\n",
    "after k step , "
   ]
  },
  {
   "cell_type": "markdown",
   "id": "e05f6ab7-5ecc-4b09-903d-8aae253b1b6b",
   "metadata": {},
   "source": [
    "$T(n)=a+b*n^2+c*n+2T(n/2)$\n",
    "\n"
   ]
  },
  {
   "cell_type": "markdown",
   "id": "9bcbcb6a-a04f-4080-9024-50ae433baa46",
   "metadata": {},
   "source": [
    "$d=2, log_2 (2)= 1$"
   ]
  },
  {
   "cell_type": "markdown",
   "id": "7a45f7ea-ce89-4a34-b8f8-47bd19922ce5",
   "metadata": {},
   "source": [
    "$T(n) \\in  \\Theta(n^2)$"
   ]
  },
  {
   "cell_type": "code",
   "execution_count": null,
   "id": "20719c4c-d29a-4203-9d72-495eb84d3292",
   "metadata": {},
   "outputs": [],
   "source": []
  }
 ],
 "metadata": {
  "kernelspec": {
   "display_name": "Python 3",
   "language": "python",
   "name": "python3"
  },
  "language_info": {
   "codemirror_mode": {
    "name": "ipython",
    "version": 3
   },
   "file_extension": ".py",
   "mimetype": "text/x-python",
   "name": "python",
   "nbconvert_exporter": "python",
   "pygments_lexer": "ipython3",
   "version": "3.8.8"
  }
 },
 "nbformat": 4,
 "nbformat_minor": 5
}
