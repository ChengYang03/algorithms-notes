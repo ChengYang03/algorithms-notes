{
 "cells": [
  {
   "cell_type": "raw",
   "id": "22571cf2-8f71-4c63-9dff-0956a41c58db",
   "metadata": {},
   "source": [
    "In comp4030 we need to master recursive designs. there's two things:\n",
    "+ design out strategies correctly\n",
    "+ design out strategies efficiently"
   ]
  },
  {
   "cell_type": "markdown",
   "id": "e17b9ba2-ef6d-41d1-8e19-4d67dc6503c8",
   "metadata": {},
   "source": [
    "In this new cinceotual language/framework, we'll need to learn ti read things and communicate thing properly."
   ]
  },
  {
   "cell_type": "code",
   "execution_count": 1,
   "id": "6190b053-09d8-4208-abd9-c126240b0e2d",
   "metadata": {},
   "outputs": [],
   "source": [
    "def prog1(L,x):\n",
    "    if len(L)==0:             \n",
    "        return 0              \n",
    "            \n",
    "    first =L.pop(0)           \n",
    "    if x ==first:             \n",
    "        return 1+prog4(L,x)   \n",
    "    else:\n",
    "        return prog4(L,x)   \n",
    "    "
   ]
  },
  {
   "cell_type": "markdown",
   "id": "86f63290-fb16-4c12-90f4-ffbdf19ca52c",
   "metadata": {},
   "source": [
    "prog1 return the number of time x occurs in L"
   ]
  },
  {
   "cell_type": "markdown",
   "id": "1ef7f3de-c9a2-43e6-bfde-fbf9e0533346",
   "metadata": {},
   "source": [
    "Recursive programs are annoying."
   ]
  },
  {
   "cell_type": "markdown",
   "id": "5ea9d8a8-7681-4e5e-9fba-e054827c6f95",
   "metadata": {},
   "source": [
    "But they can be very useful in some cases."
   ]
  },
  {
   "cell_type": "code",
   "execution_count": 1,
   "id": "3116c539-5e58-4f50-ae2e-b740bf9f8e1b",
   "metadata": {},
   "outputs": [],
   "source": [
    "def count(L,x):\n",
    "    if L==[]:\n",
    "        return 0\n",
    "    first=L.pop(0)\n",
    "    if x ==first :\n",
    "        return 1+ count(L,x)\n",
    "    else:\n",
    "        return count(L,x)"
   ]
  },
  {
   "cell_type": "markdown",
   "id": "54b94742-2fa0-48df-ab2d-87df7f4e0f7d",
   "metadata": {},
   "source": [
    "key step:\n",
    "+ can you solve this problem using solution of smaller problems\n",
    "+ think about what the recurxive call returns not how it is executed\n"
   ]
  },
  {
   "cell_type": "code",
   "execution_count": 6,
   "id": "7403044c-65d3-42c8-932b-f87ea34ac5ee",
   "metadata": {},
   "outputs": [],
   "source": [
    "def is_palindrome(L):\n",
    "    if L ==L[::-1]:\n",
    "        return True\n",
    "    else:\n",
    "        return False"
   ]
  },
  {
   "cell_type": "code",
   "execution_count": 8,
   "id": "ac07df1d-b07b-4964-ba9e-b8ac938381f5",
   "metadata": {},
   "outputs": [
    {
     "data": {
      "text/plain": [
       "True"
      ]
     },
     "execution_count": 8,
     "metadata": {},
     "output_type": "execute_result"
    }
   ],
   "source": [
    "l=[1,2,3,2,1]\n",
    "is_palindrome(l)"
   ]
  },
  {
   "cell_type": "code",
   "execution_count": null,
   "id": "e944c589-da15-4abc-9dfb-d2290cc66230",
   "metadata": {},
   "outputs": [],
   "source": [
    "def is_palindrome1(L):\n",
    "    if L[0] !=L[-1]:\n",
    "        return False\n",
    "    if L==[]:\n",
    "        return True\n",
    "    else:\n",
    "        return is_palindrome1(L[1:-1])\n",
    "   "
   ]
  }
 ],
 "metadata": {
  "kernelspec": {
   "display_name": "Python 3",
   "language": "python",
   "name": "python3"
  },
  "language_info": {
   "codemirror_mode": {
    "name": "ipython",
    "version": 3
   },
   "file_extension": ".py",
   "mimetype": "text/x-python",
   "name": "python",
   "nbconvert_exporter": "python",
   "pygments_lexer": "ipython3",
   "version": "3.8.8"
  }
 },
 "nbformat": 4,
 "nbformat_minor": 5
}
